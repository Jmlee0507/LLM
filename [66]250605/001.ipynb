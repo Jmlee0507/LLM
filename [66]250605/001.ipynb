{
 "cells": [
  {
   "cell_type": "code",
   "execution_count": 2,
   "id": "58266bcd",
   "metadata": {},
   "outputs": [
    {
     "name": "stdout",
     "output_type": "stream",
     "text": [
      "Collecting dotenv\n",
      "  Using cached dotenv-0.9.9-py2.py3-none-any.whl.metadata (279 bytes)\n",
      "Collecting python-dotenv (from dotenv)\n",
      "  Using cached python_dotenv-1.1.0-py3-none-any.whl.metadata (24 kB)\n",
      "Using cached dotenv-0.9.9-py2.py3-none-any.whl (1.9 kB)\n",
      "Using cached python_dotenv-1.1.0-py3-none-any.whl (20 kB)\n",
      "Installing collected packages: python-dotenv, dotenv\n",
      "\u001b[2K   \u001b[90m━━━━━━━━━━━━━━━━━━━━━━━━━━━━━━━━━━━━━━━━\u001b[0m \u001b[32m2/2\u001b[0m [dotenv]\n",
      "\u001b[1A\u001b[2KSuccessfully installed dotenv-0.9.9 python-dotenv-1.1.0\n"
     ]
    }
   ],
   "source": [
    "!pip install dotenv"
   ]
  },
  {
   "cell_type": "code",
   "execution_count": 4,
   "id": "2aa9c23d",
   "metadata": {},
   "outputs": [
    {
     "data": {
      "text/plain": [
       "'pcsk_...'"
      ]
     },
     "execution_count": 4,
     "metadata": {},
     "output_type": "execute_result"
    }
   ],
   "source": [
    "import os\n",
    "from dotenv import load_dotenv\n",
    "load_dotenv()\n",
    "os.environ['PINECONE_API_KEY'][:5] + '...'"
   ]
  },
  {
   "cell_type": "code",
   "execution_count": 5,
   "id": "9ec94a5d",
   "metadata": {},
   "outputs": [],
   "source": [
    "pinecone_api_key = os.environ['PINECONE_API_KEY']"
   ]
  },
  {
   "cell_type": "code",
   "execution_count": 6,
   "id": "9463013f",
   "metadata": {},
   "outputs": [
    {
     "name": "stdout",
     "output_type": "stream",
     "text": [
      "Collecting pinecone\n",
      "  Downloading pinecone-7.0.2-py3-none-any.whl.metadata (9.5 kB)\n",
      "Collecting certifi>=2019.11.17 (from pinecone)\n",
      "  Using cached certifi-2025.4.26-py3-none-any.whl.metadata (2.5 kB)\n",
      "Collecting pinecone-plugin-assistant<2.0.0,>=1.6.0 (from pinecone)\n",
      "  Downloading pinecone_plugin_assistant-1.6.1-py3-none-any.whl.metadata (27 kB)\n",
      "Collecting pinecone-plugin-interface<0.0.8,>=0.0.7 (from pinecone)\n",
      "  Downloading pinecone_plugin_interface-0.0.7-py3-none-any.whl.metadata (1.2 kB)\n",
      "Requirement already satisfied: python-dateutil>=2.5.3 in /opt/miniconda3/envs/api/lib/python3.13/site-packages (from pinecone) (2.9.0.post0)\n",
      "Requirement already satisfied: typing-extensions>=3.7.4 in /opt/miniconda3/envs/api/lib/python3.13/site-packages (from pinecone) (4.14.0)\n",
      "Collecting urllib3>=1.26.5 (from pinecone)\n",
      "  Using cached urllib3-2.4.0-py3-none-any.whl.metadata (6.5 kB)\n",
      "Collecting packaging<25.0,>=24.2 (from pinecone-plugin-assistant<2.0.0,>=1.6.0->pinecone)\n",
      "  Using cached packaging-24.2-py3-none-any.whl.metadata (3.2 kB)\n",
      "Collecting requests<3.0.0,>=2.32.3 (from pinecone-plugin-assistant<2.0.0,>=1.6.0->pinecone)\n",
      "  Using cached requests-2.32.3-py3-none-any.whl.metadata (4.6 kB)\n",
      "Collecting charset-normalizer<4,>=2 (from requests<3.0.0,>=2.32.3->pinecone-plugin-assistant<2.0.0,>=1.6.0->pinecone)\n",
      "  Using cached charset_normalizer-3.4.2-cp313-cp313-macosx_10_13_universal2.whl.metadata (35 kB)\n",
      "Requirement already satisfied: idna<4,>=2.5 in /opt/miniconda3/envs/api/lib/python3.13/site-packages (from requests<3.0.0,>=2.32.3->pinecone-plugin-assistant<2.0.0,>=1.6.0->pinecone) (3.10)\n",
      "Requirement already satisfied: six>=1.5 in /opt/miniconda3/envs/api/lib/python3.13/site-packages (from python-dateutil>=2.5.3->pinecone) (1.17.0)\n",
      "Downloading pinecone-7.0.2-py3-none-any.whl (516 kB)\n",
      "Downloading pinecone_plugin_assistant-1.6.1-py3-none-any.whl (239 kB)\n",
      "Using cached packaging-24.2-py3-none-any.whl (65 kB)\n",
      "Downloading pinecone_plugin_interface-0.0.7-py3-none-any.whl (6.2 kB)\n",
      "Using cached requests-2.32.3-py3-none-any.whl (64 kB)\n",
      "Using cached charset_normalizer-3.4.2-cp313-cp313-macosx_10_13_universal2.whl (199 kB)\n",
      "Using cached urllib3-2.4.0-py3-none-any.whl (128 kB)\n",
      "Using cached certifi-2025.4.26-py3-none-any.whl (159 kB)\n",
      "Installing collected packages: urllib3, pinecone-plugin-interface, packaging, charset-normalizer, certifi, requests, pinecone-plugin-assistant, pinecone\n",
      "\u001b[2K  Attempting uninstall: packaging\n",
      "\u001b[2K    Found existing installation: packaging 25.0\n",
      "\u001b[2K    Uninstalling packaging-25.0:\n",
      "\u001b[2K      Successfully uninstalled packaging-25.0\n",
      "\u001b[2K   \u001b[90m━━━━━━━━━━━━━━━━━━━━━━━━━━━━━━━━━━━━━━━━\u001b[0m \u001b[32m8/8\u001b[0m [pinecone]7/8\u001b[0m [pinecone]\n",
      "\u001b[1A\u001b[2KSuccessfully installed certifi-2025.4.26 charset-normalizer-3.4.2 packaging-24.2 pinecone-7.0.2 pinecone-plugin-assistant-1.6.1 pinecone-plugin-interface-0.0.7 requests-2.32.3 urllib3-2.4.0\n",
      "Note: you may need to restart the kernel to use updated packages.\n"
     ]
    }
   ],
   "source": [
    "%pip install pinecone"
   ]
  },
  {
   "cell_type": "code",
   "execution_count": 7,
   "id": "dad4a6ae",
   "metadata": {},
   "outputs": [],
   "source": [
    "import pinecone\n",
    "from pinecone import Pinecone, ServerlessSpec\n",
    "# 객체 생성\n",
    "pc = Pinecone(api_key=pinecone_api_key)"
   ]
  },
  {
   "cell_type": "code",
   "execution_count": 8,
   "id": "77e77033",
   "metadata": {},
   "outputs": [
    {
     "name": "stdout",
     "output_type": "stream",
     "text": [
      "Collecting langchain_openai\n",
      "  Downloading langchain_openai-0.3.19-py3-none-any.whl.metadata (2.3 kB)\n",
      "Collecting langchain-core<1.0.0,>=0.3.63 (from langchain_openai)\n",
      "  Using cached langchain_core-0.3.63-py3-none-any.whl.metadata (5.8 kB)\n",
      "Collecting openai<2.0.0,>=1.68.2 (from langchain_openai)\n",
      "  Downloading openai-1.84.0-py3-none-any.whl.metadata (25 kB)\n",
      "Collecting tiktoken<1,>=0.7 (from langchain_openai)\n",
      "  Using cached tiktoken-0.9.0-cp313-cp313-macosx_11_0_arm64.whl.metadata (6.7 kB)\n",
      "Collecting langsmith<0.4,>=0.1.126 (from langchain-core<1.0.0,>=0.3.63->langchain_openai)\n",
      "  Downloading langsmith-0.3.45-py3-none-any.whl.metadata (15 kB)\n",
      "Collecting tenacity!=8.4.0,<10.0.0,>=8.1.0 (from langchain-core<1.0.0,>=0.3.63->langchain_openai)\n",
      "  Using cached tenacity-9.1.2-py3-none-any.whl.metadata (1.2 kB)\n",
      "Collecting jsonpatch<2.0,>=1.33 (from langchain-core<1.0.0,>=0.3.63->langchain_openai)\n",
      "  Using cached jsonpatch-1.33-py2.py3-none-any.whl.metadata (3.0 kB)\n",
      "Collecting PyYAML>=5.3 (from langchain-core<1.0.0,>=0.3.63->langchain_openai)\n",
      "  Using cached PyYAML-6.0.2-cp313-cp313-macosx_11_0_arm64.whl.metadata (2.1 kB)\n",
      "Requirement already satisfied: packaging<25,>=23.2 in /opt/miniconda3/envs/api/lib/python3.13/site-packages (from langchain-core<1.0.0,>=0.3.63->langchain_openai) (24.2)\n",
      "Requirement already satisfied: typing-extensions>=4.7 in /opt/miniconda3/envs/api/lib/python3.13/site-packages (from langchain-core<1.0.0,>=0.3.63->langchain_openai) (4.14.0)\n",
      "Requirement already satisfied: pydantic>=2.7.4 in /opt/miniconda3/envs/api/lib/python3.13/site-packages (from langchain-core<1.0.0,>=0.3.63->langchain_openai) (2.11.5)\n",
      "Collecting jsonpointer>=1.9 (from jsonpatch<2.0,>=1.33->langchain-core<1.0.0,>=0.3.63->langchain_openai)\n",
      "  Using cached jsonpointer-3.0.0-py2.py3-none-any.whl.metadata (2.3 kB)\n",
      "Collecting httpx<1,>=0.23.0 (from langsmith<0.4,>=0.1.126->langchain-core<1.0.0,>=0.3.63->langchain_openai)\n",
      "  Using cached httpx-0.28.1-py3-none-any.whl.metadata (7.1 kB)\n",
      "Collecting orjson<4.0.0,>=3.9.14 (from langsmith<0.4,>=0.1.126->langchain-core<1.0.0,>=0.3.63->langchain_openai)\n",
      "  Using cached orjson-3.10.18-cp313-cp313-macosx_15_0_arm64.whl.metadata (41 kB)\n",
      "Requirement already satisfied: requests<3,>=2 in /opt/miniconda3/envs/api/lib/python3.13/site-packages (from langsmith<0.4,>=0.1.126->langchain-core<1.0.0,>=0.3.63->langchain_openai) (2.32.3)\n",
      "Collecting requests-toolbelt<2.0.0,>=1.0.0 (from langsmith<0.4,>=0.1.126->langchain-core<1.0.0,>=0.3.63->langchain_openai)\n",
      "  Using cached requests_toolbelt-1.0.0-py2.py3-none-any.whl.metadata (14 kB)\n",
      "Collecting zstandard<0.24.0,>=0.23.0 (from langsmith<0.4,>=0.1.126->langchain-core<1.0.0,>=0.3.63->langchain_openai)\n",
      "  Using cached zstandard-0.23.0-cp313-cp313-macosx_11_0_arm64.whl.metadata (3.0 kB)\n",
      "Requirement already satisfied: anyio in /opt/miniconda3/envs/api/lib/python3.13/site-packages (from httpx<1,>=0.23.0->langsmith<0.4,>=0.1.126->langchain-core<1.0.0,>=0.3.63->langchain_openai) (4.9.0)\n",
      "Requirement already satisfied: certifi in /opt/miniconda3/envs/api/lib/python3.13/site-packages (from httpx<1,>=0.23.0->langsmith<0.4,>=0.1.126->langchain-core<1.0.0,>=0.3.63->langchain_openai) (2025.4.26)\n",
      "Collecting httpcore==1.* (from httpx<1,>=0.23.0->langsmith<0.4,>=0.1.126->langchain-core<1.0.0,>=0.3.63->langchain_openai)\n",
      "  Using cached httpcore-1.0.9-py3-none-any.whl.metadata (21 kB)\n",
      "Requirement already satisfied: idna in /opt/miniconda3/envs/api/lib/python3.13/site-packages (from httpx<1,>=0.23.0->langsmith<0.4,>=0.1.126->langchain-core<1.0.0,>=0.3.63->langchain_openai) (3.10)\n",
      "Requirement already satisfied: h11>=0.16 in /opt/miniconda3/envs/api/lib/python3.13/site-packages (from httpcore==1.*->httpx<1,>=0.23.0->langsmith<0.4,>=0.1.126->langchain-core<1.0.0,>=0.3.63->langchain_openai) (0.16.0)\n",
      "Collecting distro<2,>=1.7.0 (from openai<2.0.0,>=1.68.2->langchain_openai)\n",
      "  Using cached distro-1.9.0-py3-none-any.whl.metadata (6.8 kB)\n",
      "Collecting jiter<1,>=0.4.0 (from openai<2.0.0,>=1.68.2->langchain_openai)\n",
      "  Using cached jiter-0.10.0-cp313-cp313-macosx_11_0_arm64.whl.metadata (5.2 kB)\n",
      "Requirement already satisfied: sniffio in /opt/miniconda3/envs/api/lib/python3.13/site-packages (from openai<2.0.0,>=1.68.2->langchain_openai) (1.3.1)\n",
      "Collecting tqdm>4 (from openai<2.0.0,>=1.68.2->langchain_openai)\n",
      "  Using cached tqdm-4.67.1-py3-none-any.whl.metadata (57 kB)\n",
      "Requirement already satisfied: annotated-types>=0.6.0 in /opt/miniconda3/envs/api/lib/python3.13/site-packages (from pydantic>=2.7.4->langchain-core<1.0.0,>=0.3.63->langchain_openai) (0.7.0)\n",
      "Requirement already satisfied: pydantic-core==2.33.2 in /opt/miniconda3/envs/api/lib/python3.13/site-packages (from pydantic>=2.7.4->langchain-core<1.0.0,>=0.3.63->langchain_openai) (2.33.2)\n",
      "Requirement already satisfied: typing-inspection>=0.4.0 in /opt/miniconda3/envs/api/lib/python3.13/site-packages (from pydantic>=2.7.4->langchain-core<1.0.0,>=0.3.63->langchain_openai) (0.4.1)\n",
      "Requirement already satisfied: charset-normalizer<4,>=2 in /opt/miniconda3/envs/api/lib/python3.13/site-packages (from requests<3,>=2->langsmith<0.4,>=0.1.126->langchain-core<1.0.0,>=0.3.63->langchain_openai) (3.4.2)\n",
      "Requirement already satisfied: urllib3<3,>=1.21.1 in /opt/miniconda3/envs/api/lib/python3.13/site-packages (from requests<3,>=2->langsmith<0.4,>=0.1.126->langchain-core<1.0.0,>=0.3.63->langchain_openai) (2.4.0)\n",
      "Collecting regex>=2022.1.18 (from tiktoken<1,>=0.7->langchain_openai)\n",
      "  Using cached regex-2024.11.6-cp313-cp313-macosx_11_0_arm64.whl.metadata (40 kB)\n",
      "Downloading langchain_openai-0.3.19-py3-none-any.whl (64 kB)\n",
      "Using cached langchain_core-0.3.63-py3-none-any.whl (438 kB)\n",
      "Using cached jsonpatch-1.33-py2.py3-none-any.whl (12 kB)\n",
      "Downloading langsmith-0.3.45-py3-none-any.whl (363 kB)\n",
      "Using cached httpx-0.28.1-py3-none-any.whl (73 kB)\n",
      "Using cached httpcore-1.0.9-py3-none-any.whl (78 kB)\n",
      "Downloading openai-1.84.0-py3-none-any.whl (725 kB)\n",
      "\u001b[2K   \u001b[90m━━━━━━━━━━━━━━━━━━━━━━━━━━━━━━━━━━━━━━━━\u001b[0m \u001b[32m725.5/725.5 kB\u001b[0m \u001b[31m21.0 MB/s\u001b[0m eta \u001b[36m0:00:00\u001b[0m\n",
      "\u001b[?25hUsing cached distro-1.9.0-py3-none-any.whl (20 kB)\n",
      "Using cached jiter-0.10.0-cp313-cp313-macosx_11_0_arm64.whl (318 kB)\n",
      "Using cached orjson-3.10.18-cp313-cp313-macosx_15_0_arm64.whl (133 kB)\n",
      "Using cached requests_toolbelt-1.0.0-py2.py3-none-any.whl (54 kB)\n",
      "Using cached tenacity-9.1.2-py3-none-any.whl (28 kB)\n",
      "Using cached tiktoken-0.9.0-cp313-cp313-macosx_11_0_arm64.whl (1.0 MB)\n",
      "Using cached zstandard-0.23.0-cp313-cp313-macosx_11_0_arm64.whl (633 kB)\n",
      "Using cached jsonpointer-3.0.0-py2.py3-none-any.whl (7.6 kB)\n",
      "Using cached PyYAML-6.0.2-cp313-cp313-macosx_11_0_arm64.whl (171 kB)\n",
      "Using cached regex-2024.11.6-cp313-cp313-macosx_11_0_arm64.whl (284 kB)\n",
      "Using cached tqdm-4.67.1-py3-none-any.whl (78 kB)\n",
      "Installing collected packages: zstandard, tqdm, tenacity, regex, PyYAML, orjson, jsonpointer, jiter, httpcore, distro, tiktoken, requests-toolbelt, jsonpatch, httpx, openai, langsmith, langchain-core, langchain_openai\n",
      "\u001b[2K   \u001b[90m━━━━━━━━━━━━━━━━━━━━━━━━━━━━━━━━━━━━━━━━\u001b[0m \u001b[32m18/18\u001b[0m [langchain_openai][langchain-core]lt]\n",
      "\u001b[1A\u001b[2KSuccessfully installed PyYAML-6.0.2 distro-1.9.0 httpcore-1.0.9 httpx-0.28.1 jiter-0.10.0 jsonpatch-1.33 jsonpointer-3.0.0 langchain-core-0.3.63 langchain_openai-0.3.19 langsmith-0.3.45 openai-1.84.0 orjson-3.10.18 regex-2024.11.6 requests-toolbelt-1.0.0 tenacity-9.1.2 tiktoken-0.9.0 tqdm-4.67.1 zstandard-0.23.0\n",
      "Note: you may need to restart the kernel to use updated packages.\n"
     ]
    }
   ],
   "source": [
    "%pip install langchain_openai"
   ]
  },
  {
   "cell_type": "code",
   "execution_count": null,
   "id": "b43292be",
   "metadata": {},
   "outputs": [],
   "source": [
    "index_name = \"example_index\"\n",
    "model_name = \"text-embedding-3-small\"\n",
    "embedding_dim = 1536 # 모델이 지원하는 임베딩 차원하고 같게\n",
    "# 인덱스 생성 - DB 생성\n",
    "if not pc.has_index(index_name):\n",
    "    pc.create_index(\n",
    "        name=index_name,\n",
    "        dimension=embedding_dim,\n",
    "        spec=ServerlessSpec(\n",
    "            cloud='aws',\n",
    "            region='us-east-1'\n",
    "        )\n",
    "    )\n",
    "# 인덱스 객체 연결\n",
    "index = pc.Index(index_name)\n",
    "# openAI의 임베딩 모델 설정(text-embedding-3-small)\n",
    "from langchain_openai import OpenAIEmbeddings\n",
    "embeddings = OpenAIEmbeddings(model = model_name)"
   ]
  },
  {
   "cell_type": "code",
   "execution_count": 9,
   "id": "425d35f5",
   "metadata": {},
   "outputs": [
    {
     "name": "stdout",
     "output_type": "stream",
     "text": [
      "Collecting langchain_pinecone\n",
      "  Downloading langchain_pinecone-0.2.8-py3-none-any.whl.metadata (5.3 kB)\n",
      "Requirement already satisfied: langchain-core<1.0.0,>=0.3.34 in /opt/miniconda3/envs/api/lib/python3.13/site-packages (from langchain_pinecone) (0.3.63)\n",
      "Requirement already satisfied: pinecone<8.0.0,>=6.0.0 in /opt/miniconda3/envs/api/lib/python3.13/site-packages (from pinecone[asyncio]<8.0.0,>=6.0.0->langchain_pinecone) (7.0.2)\n",
      "Collecting numpy>=1.26.4 (from langchain_pinecone)\n",
      "  Using cached numpy-2.2.6-cp313-cp313-macosx_14_0_arm64.whl.metadata (62 kB)\n",
      "Collecting langchain-tests<1.0.0,>=0.3.7 (from langchain_pinecone)\n",
      "  Downloading langchain_tests-0.3.19-py3-none-any.whl.metadata (3.2 kB)\n",
      "Requirement already satisfied: langchain-openai>=0.3.11 in /opt/miniconda3/envs/api/lib/python3.13/site-packages (from langchain_pinecone) (0.3.19)\n",
      "Requirement already satisfied: langsmith<0.4,>=0.1.126 in /opt/miniconda3/envs/api/lib/python3.13/site-packages (from langchain-core<1.0.0,>=0.3.34->langchain_pinecone) (0.3.45)\n",
      "Requirement already satisfied: tenacity!=8.4.0,<10.0.0,>=8.1.0 in /opt/miniconda3/envs/api/lib/python3.13/site-packages (from langchain-core<1.0.0,>=0.3.34->langchain_pinecone) (9.1.2)\n",
      "Requirement already satisfied: jsonpatch<2.0,>=1.33 in /opt/miniconda3/envs/api/lib/python3.13/site-packages (from langchain-core<1.0.0,>=0.3.34->langchain_pinecone) (1.33)\n",
      "Requirement already satisfied: PyYAML>=5.3 in /opt/miniconda3/envs/api/lib/python3.13/site-packages (from langchain-core<1.0.0,>=0.3.34->langchain_pinecone) (6.0.2)\n",
      "Requirement already satisfied: packaging<25,>=23.2 in /opt/miniconda3/envs/api/lib/python3.13/site-packages (from langchain-core<1.0.0,>=0.3.34->langchain_pinecone) (24.2)\n",
      "Requirement already satisfied: typing-extensions>=4.7 in /opt/miniconda3/envs/api/lib/python3.13/site-packages (from langchain-core<1.0.0,>=0.3.34->langchain_pinecone) (4.14.0)\n",
      "Requirement already satisfied: pydantic>=2.7.4 in /opt/miniconda3/envs/api/lib/python3.13/site-packages (from langchain-core<1.0.0,>=0.3.34->langchain_pinecone) (2.11.5)\n",
      "Requirement already satisfied: jsonpointer>=1.9 in /opt/miniconda3/envs/api/lib/python3.13/site-packages (from jsonpatch<2.0,>=1.33->langchain-core<1.0.0,>=0.3.34->langchain_pinecone) (3.0.0)\n",
      "Collecting pytest<9,>=7 (from langchain-tests<1.0.0,>=0.3.7->langchain_pinecone)\n",
      "  Downloading pytest-8.4.0-py3-none-any.whl.metadata (7.7 kB)\n",
      "Collecting pytest-asyncio<1,>=0.20 (from langchain-tests<1.0.0,>=0.3.7->langchain_pinecone)\n",
      "  Downloading pytest_asyncio-0.26.0-py3-none-any.whl.metadata (4.0 kB)\n",
      "Requirement already satisfied: httpx<1,>=0.25.0 in /opt/miniconda3/envs/api/lib/python3.13/site-packages (from langchain-tests<1.0.0,>=0.3.7->langchain_pinecone) (0.28.1)\n",
      "Collecting syrupy<5,>=4 (from langchain-tests<1.0.0,>=0.3.7->langchain_pinecone)\n",
      "  Downloading syrupy-4.9.1-py3-none-any.whl.metadata (38 kB)\n",
      "Collecting pytest-socket<1,>=0.6.0 (from langchain-tests<1.0.0,>=0.3.7->langchain_pinecone)\n",
      "  Downloading pytest_socket-0.7.0-py3-none-any.whl.metadata (6.7 kB)\n",
      "Requirement already satisfied: anyio in /opt/miniconda3/envs/api/lib/python3.13/site-packages (from httpx<1,>=0.25.0->langchain-tests<1.0.0,>=0.3.7->langchain_pinecone) (4.9.0)\n",
      "Requirement already satisfied: certifi in /opt/miniconda3/envs/api/lib/python3.13/site-packages (from httpx<1,>=0.25.0->langchain-tests<1.0.0,>=0.3.7->langchain_pinecone) (2025.4.26)\n",
      "Requirement already satisfied: httpcore==1.* in /opt/miniconda3/envs/api/lib/python3.13/site-packages (from httpx<1,>=0.25.0->langchain-tests<1.0.0,>=0.3.7->langchain_pinecone) (1.0.9)\n",
      "Requirement already satisfied: idna in /opt/miniconda3/envs/api/lib/python3.13/site-packages (from httpx<1,>=0.25.0->langchain-tests<1.0.0,>=0.3.7->langchain_pinecone) (3.10)\n",
      "Requirement already satisfied: h11>=0.16 in /opt/miniconda3/envs/api/lib/python3.13/site-packages (from httpcore==1.*->httpx<1,>=0.25.0->langchain-tests<1.0.0,>=0.3.7->langchain_pinecone) (0.16.0)\n",
      "Requirement already satisfied: orjson<4.0.0,>=3.9.14 in /opt/miniconda3/envs/api/lib/python3.13/site-packages (from langsmith<0.4,>=0.1.126->langchain-core<1.0.0,>=0.3.34->langchain_pinecone) (3.10.18)\n",
      "Requirement already satisfied: requests<3,>=2 in /opt/miniconda3/envs/api/lib/python3.13/site-packages (from langsmith<0.4,>=0.1.126->langchain-core<1.0.0,>=0.3.34->langchain_pinecone) (2.32.3)\n",
      "Requirement already satisfied: requests-toolbelt<2.0.0,>=1.0.0 in /opt/miniconda3/envs/api/lib/python3.13/site-packages (from langsmith<0.4,>=0.1.126->langchain-core<1.0.0,>=0.3.34->langchain_pinecone) (1.0.0)\n",
      "Requirement already satisfied: zstandard<0.24.0,>=0.23.0 in /opt/miniconda3/envs/api/lib/python3.13/site-packages (from langsmith<0.4,>=0.1.126->langchain-core<1.0.0,>=0.3.34->langchain_pinecone) (0.23.0)\n",
      "Requirement already satisfied: pinecone-plugin-assistant<2.0.0,>=1.6.0 in /opt/miniconda3/envs/api/lib/python3.13/site-packages (from pinecone<8.0.0,>=6.0.0->pinecone[asyncio]<8.0.0,>=6.0.0->langchain_pinecone) (1.6.1)\n",
      "Requirement already satisfied: pinecone-plugin-interface<0.0.8,>=0.0.7 in /opt/miniconda3/envs/api/lib/python3.13/site-packages (from pinecone<8.0.0,>=6.0.0->pinecone[asyncio]<8.0.0,>=6.0.0->langchain_pinecone) (0.0.7)\n",
      "Requirement already satisfied: python-dateutil>=2.5.3 in /opt/miniconda3/envs/api/lib/python3.13/site-packages (from pinecone<8.0.0,>=6.0.0->pinecone[asyncio]<8.0.0,>=6.0.0->langchain_pinecone) (2.9.0.post0)\n",
      "Requirement already satisfied: urllib3>=1.26.5 in /opt/miniconda3/envs/api/lib/python3.13/site-packages (from pinecone<8.0.0,>=6.0.0->pinecone[asyncio]<8.0.0,>=6.0.0->langchain_pinecone) (2.4.0)\n",
      "Collecting aiohttp>=3.9.0 (from pinecone[asyncio]<8.0.0,>=6.0.0->langchain_pinecone)\n",
      "  Downloading aiohttp-3.12.9-cp313-cp313-macosx_11_0_arm64.whl.metadata (7.6 kB)\n",
      "Collecting aiohttp-retry<3.0.0,>=2.9.1 (from pinecone[asyncio]<8.0.0,>=6.0.0->langchain_pinecone)\n",
      "  Downloading aiohttp_retry-2.9.1-py3-none-any.whl.metadata (8.8 kB)\n",
      "Requirement already satisfied: annotated-types>=0.6.0 in /opt/miniconda3/envs/api/lib/python3.13/site-packages (from pydantic>=2.7.4->langchain-core<1.0.0,>=0.3.34->langchain_pinecone) (0.7.0)\n",
      "Requirement already satisfied: pydantic-core==2.33.2 in /opt/miniconda3/envs/api/lib/python3.13/site-packages (from pydantic>=2.7.4->langchain-core<1.0.0,>=0.3.34->langchain_pinecone) (2.33.2)\n",
      "Requirement already satisfied: typing-inspection>=0.4.0 in /opt/miniconda3/envs/api/lib/python3.13/site-packages (from pydantic>=2.7.4->langchain-core<1.0.0,>=0.3.34->langchain_pinecone) (0.4.1)\n",
      "Collecting iniconfig>=1 (from pytest<9,>=7->langchain-tests<1.0.0,>=0.3.7->langchain_pinecone)\n",
      "  Downloading iniconfig-2.1.0-py3-none-any.whl.metadata (2.7 kB)\n",
      "Collecting pluggy<2,>=1.5 (from pytest<9,>=7->langchain-tests<1.0.0,>=0.3.7->langchain_pinecone)\n",
      "  Downloading pluggy-1.6.0-py3-none-any.whl.metadata (4.8 kB)\n",
      "Requirement already satisfied: pygments>=2.7.2 in /opt/miniconda3/envs/api/lib/python3.13/site-packages (from pytest<9,>=7->langchain-tests<1.0.0,>=0.3.7->langchain_pinecone) (2.19.1)\n",
      "Requirement already satisfied: charset-normalizer<4,>=2 in /opt/miniconda3/envs/api/lib/python3.13/site-packages (from requests<3,>=2->langsmith<0.4,>=0.1.126->langchain-core<1.0.0,>=0.3.34->langchain_pinecone) (3.4.2)\n",
      "Collecting aiohappyeyeballs>=2.5.0 (from aiohttp>=3.9.0->pinecone[asyncio]<8.0.0,>=6.0.0->langchain_pinecone)\n",
      "  Using cached aiohappyeyeballs-2.6.1-py3-none-any.whl.metadata (5.9 kB)\n",
      "Collecting aiosignal>=1.1.2 (from aiohttp>=3.9.0->pinecone[asyncio]<8.0.0,>=6.0.0->langchain_pinecone)\n",
      "  Using cached aiosignal-1.3.2-py2.py3-none-any.whl.metadata (3.8 kB)\n",
      "Collecting attrs>=17.3.0 (from aiohttp>=3.9.0->pinecone[asyncio]<8.0.0,>=6.0.0->langchain_pinecone)\n",
      "  Using cached attrs-25.3.0-py3-none-any.whl.metadata (10 kB)\n",
      "Collecting frozenlist>=1.1.1 (from aiohttp>=3.9.0->pinecone[asyncio]<8.0.0,>=6.0.0->langchain_pinecone)\n",
      "  Downloading frozenlist-1.6.2-cp313-cp313-macosx_11_0_arm64.whl.metadata (17 kB)\n",
      "Collecting multidict<7.0,>=4.5 (from aiohttp>=3.9.0->pinecone[asyncio]<8.0.0,>=6.0.0->langchain_pinecone)\n",
      "  Using cached multidict-6.4.4-cp313-cp313-macosx_11_0_arm64.whl.metadata (5.3 kB)\n",
      "Collecting propcache>=0.2.0 (from aiohttp>=3.9.0->pinecone[asyncio]<8.0.0,>=6.0.0->langchain_pinecone)\n",
      "  Using cached propcache-0.3.1-cp313-cp313-macosx_11_0_arm64.whl.metadata (10 kB)\n",
      "Collecting yarl<2.0,>=1.17.0 (from aiohttp>=3.9.0->pinecone[asyncio]<8.0.0,>=6.0.0->langchain_pinecone)\n",
      "  Using cached yarl-1.20.0-cp313-cp313-macosx_11_0_arm64.whl.metadata (72 kB)\n",
      "Requirement already satisfied: openai<2.0.0,>=1.68.2 in /opt/miniconda3/envs/api/lib/python3.13/site-packages (from langchain-openai>=0.3.11->langchain_pinecone) (1.84.0)\n",
      "Requirement already satisfied: tiktoken<1,>=0.7 in /opt/miniconda3/envs/api/lib/python3.13/site-packages (from langchain-openai>=0.3.11->langchain_pinecone) (0.9.0)\n",
      "Requirement already satisfied: distro<2,>=1.7.0 in /opt/miniconda3/envs/api/lib/python3.13/site-packages (from openai<2.0.0,>=1.68.2->langchain-openai>=0.3.11->langchain_pinecone) (1.9.0)\n",
      "Requirement already satisfied: jiter<1,>=0.4.0 in /opt/miniconda3/envs/api/lib/python3.13/site-packages (from openai<2.0.0,>=1.68.2->langchain-openai>=0.3.11->langchain_pinecone) (0.10.0)\n",
      "Requirement already satisfied: sniffio in /opt/miniconda3/envs/api/lib/python3.13/site-packages (from openai<2.0.0,>=1.68.2->langchain-openai>=0.3.11->langchain_pinecone) (1.3.1)\n",
      "Requirement already satisfied: tqdm>4 in /opt/miniconda3/envs/api/lib/python3.13/site-packages (from openai<2.0.0,>=1.68.2->langchain-openai>=0.3.11->langchain_pinecone) (4.67.1)\n",
      "Requirement already satisfied: regex>=2022.1.18 in /opt/miniconda3/envs/api/lib/python3.13/site-packages (from tiktoken<1,>=0.7->langchain-openai>=0.3.11->langchain_pinecone) (2024.11.6)\n",
      "Requirement already satisfied: six>=1.5 in /opt/miniconda3/envs/api/lib/python3.13/site-packages (from python-dateutil>=2.5.3->pinecone<8.0.0,>=6.0.0->pinecone[asyncio]<8.0.0,>=6.0.0->langchain_pinecone) (1.17.0)\n",
      "Downloading langchain_pinecone-0.2.8-py3-none-any.whl (22 kB)\n",
      "Downloading langchain_tests-0.3.19-py3-none-any.whl (40 kB)\n",
      "Downloading aiohttp_retry-2.9.1-py3-none-any.whl (10.0 kB)\n",
      "Downloading pytest-8.4.0-py3-none-any.whl (363 kB)\n",
      "Downloading pluggy-1.6.0-py3-none-any.whl (20 kB)\n",
      "Downloading pytest_asyncio-0.26.0-py3-none-any.whl (19 kB)\n",
      "Downloading pytest_socket-0.7.0-py3-none-any.whl (6.8 kB)\n",
      "Downloading syrupy-4.9.1-py3-none-any.whl (52 kB)\n",
      "Downloading aiohttp-3.12.9-cp313-cp313-macosx_11_0_arm64.whl (463 kB)\n",
      "Using cached multidict-6.4.4-cp313-cp313-macosx_11_0_arm64.whl (37 kB)\n",
      "Using cached yarl-1.20.0-cp313-cp313-macosx_11_0_arm64.whl (94 kB)\n",
      "Using cached aiohappyeyeballs-2.6.1-py3-none-any.whl (15 kB)\n",
      "Using cached aiosignal-1.3.2-py2.py3-none-any.whl (7.6 kB)\n",
      "Using cached attrs-25.3.0-py3-none-any.whl (63 kB)\n",
      "Downloading frozenlist-1.6.2-cp313-cp313-macosx_11_0_arm64.whl (48 kB)\n",
      "Downloading iniconfig-2.1.0-py3-none-any.whl (6.0 kB)\n",
      "Using cached numpy-2.2.6-cp313-cp313-macosx_14_0_arm64.whl (5.1 MB)\n",
      "Using cached propcache-0.3.1-cp313-cp313-macosx_11_0_arm64.whl (44 kB)\n",
      "Installing collected packages: propcache, pluggy, numpy, multidict, iniconfig, frozenlist, attrs, aiohappyeyeballs, yarl, pytest, aiosignal, syrupy, pytest-socket, pytest-asyncio, aiohttp, aiohttp-retry, langchain-tests, langchain_pinecone\n",
      "\u001b[2K   \u001b[90m━━━━━━━━━━━━━━━━━━━━━━━━━━━━━━━━━━━━━━━━\u001b[0m \u001b[32m18/18\u001b[0m [langchain_pinecone]iohttp]\n",
      "\u001b[1A\u001b[2KSuccessfully installed aiohappyeyeballs-2.6.1 aiohttp-3.12.9 aiohttp-retry-2.9.1 aiosignal-1.3.2 attrs-25.3.0 frozenlist-1.6.2 iniconfig-2.1.0 langchain-tests-0.3.19 langchain_pinecone-0.2.8 multidict-6.4.4 numpy-2.2.6 pluggy-1.6.0 propcache-0.3.1 pytest-8.4.0 pytest-asyncio-0.26.0 pytest-socket-0.7.0 syrupy-4.9.1 yarl-1.20.0\n",
      "Note: you may need to restart the kernel to use updated packages.\n"
     ]
    }
   ],
   "source": [
    "%pip install langchain_pinecone"
   ]
  },
  {
   "cell_type": "code",
   "execution_count": null,
   "id": "6fd3f642",
   "metadata": {},
   "outputs": [],
   "source": [
    "# Doc 타입으로 데이터를 upset\n",
    "from langchain_core.documents import Document\n",
    "doc1 = Document(page_content=\"Building an exciting new project with LangChain - come check it out!\",\n",
    "                metadata={\"source\": \"tweet\"})\n",
    "doc2 = Document(page_content=\"The weather forecast for tomorrow is cloudy and overcast, with a high of 62 degrees.\",\n",
    "                metadata={\"source\": \"news\"})\n",
    "doc3 = Document(page_content=\"LangGraph is the best framework for building stateful, agentic applications!\",\n",
    "                metadata={\"source\": \"tweet\"})\n",
    "# 벡터스토어 초기화\n",
    "from langchain_pinecone import PineconeVectorStore\n",
    "vector_store = PineconeVectorStore(index=index,embedding=embeddings)\n",
    "vector_store.add_documents([doc1,doc2,doc3])"
   ]
  },
  {
   "cell_type": "code",
   "execution_count": null,
   "id": "55415aae",
   "metadata": {},
   "outputs": [],
   "source": [
    "print(f'{index.describe_index_stats()}')"
   ]
  },
  {
   "cell_type": "code",
   "execution_count": null,
   "id": "82d7f9cf",
   "metadata": {},
   "outputs": [],
   "source": [
    "# 유사도 검색 실행\n",
    "query1 = \"LangChain provides abstractions to make working with LLMs easy\"\n",
    "result1 = vector_store.similarity_search(query1,k=2,filter={'source':'tweet'})\n",
    "for res in result1:\n",
    "    print(f'{res.page_content} : {res.metadata}')"
   ]
  },
  {
   "cell_type": "code",
   "execution_count": null,
   "id": "32cffbc8",
   "metadata": {},
   "outputs": [],
   "source": [
    "query2 = \"Will it be hot tomorrow\"\n",
    "result2 = vector_store.similarity_search_with_score(query2,k=1,filter={'source':'news'})\n",
    "for res,score in result2:\n",
    "    print(f'{score:.6f} {res.page_content} : {res.metadata}')"
   ]
  }
 ],
 "metadata": {
  "kernelspec": {
   "display_name": "api",
   "language": "python",
   "name": "python3"
  },
  "language_info": {
   "codemirror_mode": {
    "name": "ipython",
    "version": 3
   },
   "file_extension": ".py",
   "mimetype": "text/x-python",
   "name": "python",
   "nbconvert_exporter": "python",
   "pygments_lexer": "ipython3",
   "version": "3.13.4"
  }
 },
 "nbformat": 4,
 "nbformat_minor": 5
}
