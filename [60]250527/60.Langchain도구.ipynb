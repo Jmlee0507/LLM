{
 "cells": [
  {
   "cell_type": "markdown",
   "id": "2674266c",
   "metadata": {},
   "source": [
    "LangChain Tool\n",
    "```\n",
    "Tool : LLM 에이전트가 수행할 수 있는 외부기능이나 api를 말함(날씨정보나 웹검색, 계산기 등)\n",
    "이유 : gpt는 최신 정보에 접근할 수 없다.\n",
    "구조 : 이름 설명 함수실행로직\n",
    "툴 호출 방식 : GPT-4 모델들은 OpenAI의 함수호출 기능을 통해서 툴을 직접 호출할 수 있다.\n",
    "```\n",
    "\n",
    "외부 API 호출 Tool 구현(날씨API, 뉴스API)"
   ]
  },
  {
   "cell_type": "code",
   "execution_count": 2,
   "id": "f2dbb196",
   "metadata": {},
   "outputs": [
    {
     "name": "stdout",
     "output_type": "stream",
     "text": [
      "Requirement already satisfied: langchain-core in /opt/miniconda3/envs/llm_env/lib/python3.10/site-packages (0.3.61)\n",
      "Requirement already satisfied: langchain-openai in /opt/miniconda3/envs/llm_env/lib/python3.10/site-packages (0.3.18)\n",
      "Requirement already satisfied: openai in /opt/miniconda3/envs/llm_env/lib/python3.10/site-packages (1.77.0)\n",
      "Requirement already satisfied: python-dotenv in /opt/miniconda3/envs/llm_env/lib/python3.10/site-packages (1.1.0)\n",
      "Requirement already satisfied: requests in /opt/miniconda3/envs/llm_env/lib/python3.10/site-packages (2.32.3)\n",
      "Requirement already satisfied: langsmith<0.4,>=0.1.126 in /opt/miniconda3/envs/llm_env/lib/python3.10/site-packages (from langchain-core) (0.3.42)\n",
      "Requirement already satisfied: tenacity!=8.4.0,<10.0.0,>=8.1.0 in /opt/miniconda3/envs/llm_env/lib/python3.10/site-packages (from langchain-core) (9.1.2)\n",
      "Requirement already satisfied: jsonpatch<2.0,>=1.33 in /opt/miniconda3/envs/llm_env/lib/python3.10/site-packages (from langchain-core) (1.33)\n",
      "Requirement already satisfied: PyYAML>=5.3 in /opt/miniconda3/envs/llm_env/lib/python3.10/site-packages (from langchain-core) (6.0.2)\n",
      "Requirement already satisfied: packaging<25,>=23.2 in /opt/miniconda3/envs/llm_env/lib/python3.10/site-packages (from langchain-core) (24.2)\n",
      "Requirement already satisfied: typing-extensions>=4.7 in /opt/miniconda3/envs/llm_env/lib/python3.10/site-packages (from langchain-core) (4.13.2)\n",
      "Requirement already satisfied: pydantic>=2.7.4 in /opt/miniconda3/envs/llm_env/lib/python3.10/site-packages (from langchain-core) (2.10.3)\n",
      "Requirement already satisfied: jsonpointer>=1.9 in /opt/miniconda3/envs/llm_env/lib/python3.10/site-packages (from jsonpatch<2.0,>=1.33->langchain-core) (3.0.0)\n",
      "Requirement already satisfied: httpx<1,>=0.23.0 in /opt/miniconda3/envs/llm_env/lib/python3.10/site-packages (from langsmith<0.4,>=0.1.126->langchain-core) (0.28.1)\n",
      "Requirement already satisfied: orjson<4.0.0,>=3.9.14 in /opt/miniconda3/envs/llm_env/lib/python3.10/site-packages (from langsmith<0.4,>=0.1.126->langchain-core) (3.10.18)\n",
      "Requirement already satisfied: requests-toolbelt<2.0.0,>=1.0.0 in /opt/miniconda3/envs/llm_env/lib/python3.10/site-packages (from langsmith<0.4,>=0.1.126->langchain-core) (1.0.0)\n",
      "Requirement already satisfied: zstandard<0.24.0,>=0.23.0 in /opt/miniconda3/envs/llm_env/lib/python3.10/site-packages (from langsmith<0.4,>=0.1.126->langchain-core) (0.23.0)\n",
      "Requirement already satisfied: charset-normalizer<4,>=2 in /opt/miniconda3/envs/llm_env/lib/python3.10/site-packages (from requests) (3.4.2)\n",
      "Requirement already satisfied: idna<4,>=2.5 in /opt/miniconda3/envs/llm_env/lib/python3.10/site-packages (from requests) (3.7)\n",
      "Requirement already satisfied: urllib3<3,>=1.21.1 in /opt/miniconda3/envs/llm_env/lib/python3.10/site-packages (from requests) (2.4.0)\n",
      "Requirement already satisfied: certifi>=2017.4.17 in /opt/miniconda3/envs/llm_env/lib/python3.10/site-packages (from requests) (2025.4.26)\n",
      "Requirement already satisfied: anyio in /opt/miniconda3/envs/llm_env/lib/python3.10/site-packages (from httpx<1,>=0.23.0->langsmith<0.4,>=0.1.126->langchain-core) (4.9.0)\n",
      "Requirement already satisfied: httpcore==1.* in /opt/miniconda3/envs/llm_env/lib/python3.10/site-packages (from httpx<1,>=0.23.0->langsmith<0.4,>=0.1.126->langchain-core) (1.0.9)\n",
      "Requirement already satisfied: h11>=0.16 in /opt/miniconda3/envs/llm_env/lib/python3.10/site-packages (from httpcore==1.*->httpx<1,>=0.23.0->langsmith<0.4,>=0.1.126->langchain-core) (0.16.0)\n",
      "Requirement already satisfied: annotated-types>=0.6.0 in /opt/miniconda3/envs/llm_env/lib/python3.10/site-packages (from pydantic>=2.7.4->langchain-core) (0.6.0)\n",
      "Requirement already satisfied: pydantic-core==2.27.1 in /opt/miniconda3/envs/llm_env/lib/python3.10/site-packages (from pydantic>=2.7.4->langchain-core) (2.27.1)\n",
      "Requirement already satisfied: tiktoken<1,>=0.7 in /opt/miniconda3/envs/llm_env/lib/python3.10/site-packages (from langchain-openai) (0.9.0)\n",
      "Requirement already satisfied: distro<2,>=1.7.0 in /opt/miniconda3/envs/llm_env/lib/python3.10/site-packages (from openai) (1.9.0)\n",
      "Requirement already satisfied: jiter<1,>=0.4.0 in /opt/miniconda3/envs/llm_env/lib/python3.10/site-packages (from openai) (0.6.1)\n",
      "Requirement already satisfied: sniffio in /opt/miniconda3/envs/llm_env/lib/python3.10/site-packages (from openai) (1.3.0)\n",
      "Requirement already satisfied: tqdm>4 in /opt/miniconda3/envs/llm_env/lib/python3.10/site-packages (from openai) (4.67.1)\n",
      "Requirement already satisfied: exceptiongroup>=1.0.2 in /opt/miniconda3/envs/llm_env/lib/python3.10/site-packages (from anyio->httpx<1,>=0.23.0->langsmith<0.4,>=0.1.126->langchain-core) (1.3.0)\n",
      "Requirement already satisfied: regex>=2022.1.18 in /opt/miniconda3/envs/llm_env/lib/python3.10/site-packages (from tiktoken<1,>=0.7->langchain-openai) (2024.11.6)\n",
      "Note: you may need to restart the kernel to use updated packages.\n"
     ]
    }
   ],
   "source": [
    "%pip install langchain-core langchain-openai openai python-dotenv requests"
   ]
  },
  {
   "cell_type": "code",
   "execution_count": 1,
   "id": "c3bcc6d2",
   "metadata": {},
   "outputs": [
    {
     "name": "stdout",
     "output_type": "stream",
     "text": [
      "5783b\n",
      "43ec2\n"
     ]
    }
   ],
   "source": [
    "# .env 로드\n",
    "from dotenv import load_dotenv\n",
    "import os\n",
    "load_dotenv()\n",
    "\n",
    "print(os.environ['OPEN_WEATHER_MAP'][:5])\n",
    "print(os.environ['NEWSAPI_KEY'][:5])"
   ]
  },
  {
   "cell_type": "markdown",
   "id": "ea7aed11",
   "metadata": {},
   "source": [
    "날씨정보 조회"
   ]
  },
  {
   "cell_type": "code",
   "execution_count": 11,
   "id": "eae8094b",
   "metadata": {},
   "outputs": [],
   "source": [
    "from pydantic import BaseModel, Field\n",
    "\n",
    "# 입력 스키마\n",
    "class WeatherInput(BaseModel):\n",
    "    city: str = Field(description = \"날씨를 조회할 도시 이름(영문)\")\n",
    "    \n",
    "# 날씨정보 조회 함수\n",
    "def get_weather(city: str) -> str:\n",
    "    import requests\n",
    "    api_key = os.getenv(\"OPEN_WEATHER_MAP\")\n",
    "    url = \"http://api.openweathermap.org/data/2.5/weather\"\n",
    "    params = {\n",
    "        \"q\":city,\n",
    "        \"appid\":api_key,\n",
    "        \"units\": \"metric\", #섭씨온도\n",
    "        \"lang\": \"kr\"\n",
    "    }\n",
    "    response = requests.get(url,params=params)\n",
    "    data = response.json()\n",
    "    if data.get('cod') != 200:\n",
    "        return \"날씨 정보를 가져올 수 없습니다.\"\n",
    "    temp = data['main']['temp']\n",
    "    desc = data['weather'][0]['description']\n",
    "    return f\"{city}의 현재 기온은 {temp}도이며, 날씨는 {desc}입니다.\""
   ]
  },
  {
   "cell_type": "code",
   "execution_count": null,
   "id": "0eb38bfd",
   "metadata": {},
   "outputs": [
    {
     "data": {
      "text/plain": [
       "'Seoul'"
      ]
     },
     "execution_count": 13,
     "metadata": {},
     "output_type": "execute_result"
    }
   ],
   "source": [
    "#pydantic 모델을 사용하여 입력값 검증\n",
    "class WeatherInput(BaseModel):\n",
    "    city: str = Field(description = \"날씨를 조회할 도시 이름(영문)\")\n",
    "\n",
    "class MyClass:\n",
    "    def __init__(self, ab:str):\n",
    "        self.city = ab\n",
    "\n",
    "MyClass(ab=100) # 사용자가 의도한 문자열이 전달되지 않아도 python은 타입에러를 발생시키지 않음\n",
    "result = WeatherInput(city=100) #문자열이 아니면 Typeerror를 발생시킴. pydantic 모델을 사용했기 때문(validation check를 위해서)\n",
    "# result = WeatherInput(city='Seoul') #이렇게 문자열로 넣어야만 작동함\n",
    "result.city"
   ]
  },
  {
   "cell_type": "code",
   "execution_count": 3,
   "id": "3905bf69",
   "metadata": {},
   "outputs": [
    {
     "data": {
      "text/plain": [
       "'Seoul의 현재 기온은 22.76도이며, 날씨는 연무입니다.'"
      ]
     },
     "execution_count": 3,
     "metadata": {},
     "output_type": "execute_result"
    }
   ],
   "source": [
    "get_weather('Seoul')"
   ]
  },
  {
   "cell_type": "markdown",
   "id": "41a8a648",
   "metadata": {},
   "source": [
    "뉴스검색"
   ]
  },
  {
   "cell_type": "code",
   "execution_count": 14,
   "id": "4816aba9",
   "metadata": {},
   "outputs": [],
   "source": [
    "from pydantic import BaseModel, Field\n",
    "\n",
    "# 입력 스키마\n",
    "class NewsInput(BaseModel):\n",
    "    keyword: str = Field(description = \"뉴스를 조회할 키워드\")\n",
    "\n",
    "def get_news(keyword:str) -> str:\n",
    "    import requests\n",
    "    api_key = os.getenv(\"NEWSAPI_KEY\")\n",
    "    url = \"https://newsapi.org/v2/everything\"\n",
    "    params = {\n",
    "        \"q\" : keyword,\n",
    "        \"apiKey\" : api_key,\n",
    "        \"language\" : \"ko\",\n",
    "        \"sortBy\" : \"publishedAt\", #최신뉴스\n",
    "        \"pageSize\" : 1 #최근 1건\n",
    "    }\n",
    "    response = requests.get(url,params=params)\n",
    "    data = response.json()\n",
    "    articles = data.get('articles')\n",
    "    if not articles:\n",
    "        return \"해당 키워드에 대한 뉴스가 없습니다\"\n",
    "    # 가장 첫번째 뉴스 선택\n",
    "    top_news = articles[0]\n",
    "    title = top_news.get('title', '제목 없음')\n",
    "    source = top_news.get('source', {}).get('name', '출처 없음')\n",
    "    return f'{keyword}에 대한 최신 뉴스: \"{title}\" (출처: {source})'"
   ]
  },
  {
   "cell_type": "code",
   "execution_count": 5,
   "id": "98296ee0",
   "metadata": {},
   "outputs": [
    {
     "name": "stdout",
     "output_type": "stream",
     "text": [
      "삼성전자에 대한 최신 뉴스: \"삼성전자, 6월까지 안드로이드 15 기반 '원UI 7' 업데이트 마무리\" (출처: Kbench.com)\n"
     ]
    }
   ],
   "source": [
    "print(get_news('삼성전자'))"
   ]
  },
  {
   "cell_type": "markdown",
   "id": "1f3d622d",
   "metadata": {},
   "source": [
    "LangChain Tool 객체로 변환\n",
    "```\n",
    "get_weather, get_news 함수를 Tool로 등록\n",
    "```"
   ]
  },
  {
   "cell_type": "code",
   "execution_count": 15,
   "id": "6821e1eb",
   "metadata": {},
   "outputs": [
    {
     "name": "stdout",
     "output_type": "stream",
     "text": [
      "tool 이름:get_weather 설명: 도시의 현재 날씨 정보를 반환합니다.\n",
      "tool 이름:get_news 설명: 키워드에 대한 최신 뉴스 정보를 반환합니다\n"
     ]
    }
   ],
   "source": [
    "from langchain_core.runnables import RunnableLambda\n",
    "# 날씨함수 runnable -> tool 변환\n",
    "weather_runnable = RunnableLambda(lambda x: get_weather(x['city']))\n",
    "weather_tool = weather_runnable.as_tool(\n",
    "    name = \"get_weather\",\n",
    "    description=\"도시의 현재 날씨 정보를 반환합니다.\",\n",
    "    # arg_types={\"city\":str}\n",
    "    args_schema= WeatherInput\n",
    ")\n",
    "news_runnable = RunnableLambda(lambda x: get_news(x['keyword']))\n",
    "news_tool = news_runnable.as_tool(\n",
    "    name = \"get_news\",\n",
    "    description=\"키워드에 대한 최신 뉴스 정보를 반환합니다\",\n",
    "    # arg_types={\"keyword\":str}\n",
    "    args_schema= NewsInput\n",
    ")\n",
    "print(f'tool 이름:{weather_tool.name} 설명: {weather_tool.description}')\n",
    "print(f'tool 이름:{news_tool.name} 설명: {news_tool.description}')"
   ]
  },
  {
   "cell_type": "code",
   "execution_count": 16,
   "id": "057cea23",
   "metadata": {},
   "outputs": [
    {
     "name": "stdout",
     "output_type": "stream",
     "text": [
      "content='현재 서울의 날씨는 실시간으로 확인할 수 없지만, 일반적으로 10월의 서울은 가을 날씨로 쌀쌀하고 맑은 날이 많습니다. 평균 기온은 약 10도에서 20도 사이입니다. 구체적인 날씨 정보는 기상청 웹사이트나 날씨 앱을 통해 확인하시기 바랍니다. 추가로 궁금한 점이 있으면 말씀해 주세요!' additional_kwargs={'refusal': None} response_metadata={'token_usage': {'completion_tokens': 92, 'prompt_tokens': 29, 'total_tokens': 121, 'completion_tokens_details': {'accepted_prediction_tokens': 0, 'audio_tokens': 0, 'reasoning_tokens': 0, 'rejected_prediction_tokens': 0}, 'prompt_tokens_details': {'audio_tokens': 0, 'cached_tokens': 0}}, 'model_name': 'gpt-4o-mini-2024-07-18', 'system_fingerprint': 'fp_62a23a81ef', 'id': 'chatcmpl-BbfBFGdXssSNhHMfY05AbzOqa0X69', 'service_tier': 'default', 'finish_reason': 'stop', 'logprobs': None} id='run--f048f132-85a5-466a-bf29-136eba7e5546-0' usage_metadata={'input_tokens': 29, 'output_tokens': 92, 'total_tokens': 121, 'input_token_details': {'audio': 0, 'cache_read': 0}, 'output_token_details': {'audio': 0, 'reasoning': 0}}\n"
     ]
    }
   ],
   "source": [
    "# 툴 없이\n",
    "from langchain_openai import ChatOpenAI\n",
    "# 프롬프트 템플릿\n",
    "from langchain_core.prompts import ChatPromptTemplate\n",
    "# 출력 파서\n",
    "from langchain_core.output_parsers import StrOutputParser\n",
    "user_question = '서울 날씨 알려줘'\n",
    "# 사용자 질문을 처리하는 프롬프트 템플릿\n",
    "user_prompt = ChatPromptTemplate.from_messages([\n",
    "    (\"system\", \"당신은 날씨와 뉴스 정보를 제공하는 AI입니다.\"),\n",
    "    (\"human\", \"{question}\")\n",
    "])\n",
    "llm = ChatOpenAI(model='gpt-4o-mini', temperature=0.0)\n",
    "chain = user_prompt | llm\n",
    "# 사용자 질문을 처리하는 체인 실행\n",
    "result = chain.invoke({\"question\": user_question})\n",
    "print(result)"
   ]
  },
  {
   "cell_type": "markdown",
   "id": "d18f535f",
   "metadata": {},
   "source": [
    "LLM 최종 답변 생성 요청"
   ]
  },
  {
   "cell_type": "code",
   "execution_count": 18,
   "id": "9d71682f",
   "metadata": {},
   "outputs": [
    {
     "name": "stderr",
     "output_type": "stream",
     "text": [
      "/var/folders/9c/x8552y5x1ks7f22561j09f500000gn/T/ipykernel_50391/1587631345.py:15: LangChainDeprecationWarning: The method `BaseChatModel.__call__` was deprecated in langchain-core 0.1.7 and will be removed in 1.0. Use :meth:`~invoke` instead.\n",
      "  result = llm(messages)  # LLM에 메시지 전달\n"
     ]
    },
    {
     "name": "stdout",
     "output_type": "stream",
     "text": [
      "현재 서울의 날씨는 연무이며, 기온은 약 24.76도입니다. 외출 시 가벼운 옷차림이 적합할 것 같습니다. 추가적인 날씨 정보가 필요하시면 말씀해 주세요!\n"
     ]
    }
   ],
   "source": [
    "from langchain.schema import AIMessage, HumanMessage, SystemMessage\n",
    "# 프롬프트 구성: 시스템메시지 + 사용자 질문 + 결과를 맥락으로 제공\n",
    "weather_info = get_weather('seoul')\n",
    "system_prompt = \"당신은 유용한 AI 어시스턴트입니다. 사용자 질문에 맞게 제공된 정보를 활용해 답변하세요\"\n",
    "tool_info_prompt = f'도구가 제공한 추가 정보:{weather_info}'\n",
    "ask_prompt = '위 정보를 참고해서 사용자 질문에 답변하세요.'\n",
    "#system message랑 Human은 고정, AI가 그거에 따라 답변해주고, 그 다음 Human이 답변함\n",
    "#실제정보가 AI가 한 것처럼 change 해줄것..?\n",
    "messages = [\n",
    "    SystemMessage(content=system_prompt),\n",
    "    HumanMessage(content=user_question),\n",
    "    AIMessage(content=tool_info_prompt), # 도구 결과를 마치 ai의 답변처럼 추가\n",
    "    HumanMessage(content=ask_prompt)\n",
    "]\n",
    "result = llm(messages)  # LLM에 메시지 전달\n",
    "print(result.content)"
   ]
  },
  {
   "cell_type": "markdown",
   "id": "a9974337",
   "metadata": {},
   "source": [
    "여러 tool을 연결하도록 에이전트 구성"
   ]
  },
  {
   "cell_type": "code",
   "execution_count": null,
   "id": "45da7d70",
   "metadata": {},
   "outputs": [],
   "source": [
    "# 에이전트를 생성하고 등록\n",
    "from langchain.agents import initialize_agent, AgentType\n",
    "# 앞에서 만든 tool 객체 리스트를 준비\n",
    "tools = [weather_tool, news_tool]"
   ]
  }
 ],
 "metadata": {
  "kernelspec": {
   "display_name": "llm_env",
   "language": "python",
   "name": "python3"
  },
  "language_info": {
   "codemirror_mode": {
    "name": "ipython",
    "version": 3
   },
   "file_extension": ".py",
   "mimetype": "text/x-python",
   "name": "python",
   "nbconvert_exporter": "python",
   "pygments_lexer": "ipython3",
   "version": "3.10.17"
  }
 },
 "nbformat": 4,
 "nbformat_minor": 5
}
