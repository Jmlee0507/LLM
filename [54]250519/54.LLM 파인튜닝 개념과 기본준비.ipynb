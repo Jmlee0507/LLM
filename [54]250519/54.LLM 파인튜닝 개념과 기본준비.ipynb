{
 "cells": [
  {
   "cell_type": "markdown",
   "id": "045cb2ff",
   "metadata": {},
   "source": [
    "파인튜닝\n",
    "```\n",
    "LLM을 추가학습\n",
    "소량의 고품질데이터로 모델을 재조정해서 직업별 성능 향상\n",
    "```\n",
    "파인튜닝vs프롬프트엔지니어링\n",
    "```\n",
    "프롬프트엔지니어링\n",
    "    모델의 가중치를 변경하지않고 입력프롬프트를 조정해 원하는 출력을 유도\n",
    "```\n",
    "파인튜닝\n",
    "```\n",
    "    모델의 가중치를 업데이트, 특정 데이터셋에 최적화\n",
    "    종류:\n",
    "        Full File-Tuning : 모델의 모든 가중치를 튜닝\n",
    "        PEFT(Parameter-Effective Fine-Tuning): 소수의 파라메터만 업데이트, 효율성 극대화\n",
    "            LoRA, QLoRA\n",
    "```\n",
    "LoRA(Low-Rank Adaptation), QLoRA(Quantized LoRA)\n",
    "```\n",
    "    LoRA: 모델의 가중치 행렬에 소규모 추가 파라메터(저랭크 행렬)를 삽입하여 학습\n",
    "    원본 모델은 유지, 어뎁터만 저장/배포\n",
    "    Llama-3를 한국어 데이터로 LoRA 파인튜어 \n",
    "    \n",
    "    QLoRA: LoRA에 4비트 또는 8비트 양자를 적용\n",
    "    메모리 사용량을 절감\n",
    "```\n",
    "한국어 LLM 파인튜닝\n",
    "```\n",
    "영어중심의 LLM 한국어 데이터가 부족\n",
    "토크나이져가 한국어에 최적화 안됨\n",
    "해결 : 한국어 특화모델(KoGPT2. Llama-3-Open-Ko, Mistal-Ko)\n",
    "    한국어 데이터셋 이용(KoAlpaca, NIA한국어 대회 데이터셋)\n",
    "    토크나이져 재학습, 한국어 전용 토크나이져져\n",
    "```"
   ]
  },
  {
   "cell_type": "code",
   "execution_count": 4,
   "id": "55ec9939",
   "metadata": {},
   "outputs": [
    {
     "name": "stdout",
     "output_type": "stream",
     "text": [
      "Requirement already satisfied: transformers in /opt/miniconda3/envs/llm_env/lib/python3.9/site-packages (4.51.3)\n",
      "Requirement already satisfied: filelock in /opt/miniconda3/envs/llm_env/lib/python3.9/site-packages (from transformers) (3.18.0)\n",
      "Requirement already satisfied: huggingface-hub<1.0,>=0.30.0 in /opt/miniconda3/envs/llm_env/lib/python3.9/site-packages (from transformers) (0.31.2)\n",
      "Requirement already satisfied: numpy>=1.17 in /opt/miniconda3/envs/llm_env/lib/python3.9/site-packages (from transformers) (2.0.1)\n",
      "Requirement already satisfied: packaging>=20.0 in /opt/miniconda3/envs/llm_env/lib/python3.9/site-packages (from transformers) (25.0)\n",
      "Requirement already satisfied: pyyaml>=5.1 in /opt/miniconda3/envs/llm_env/lib/python3.9/site-packages (from transformers) (6.0.2)\n",
      "Requirement already satisfied: regex!=2019.12.17 in /opt/miniconda3/envs/llm_env/lib/python3.9/site-packages (from transformers) (2024.11.6)\n",
      "Requirement already satisfied: requests in /opt/miniconda3/envs/llm_env/lib/python3.9/site-packages (from transformers) (2.32.3)\n",
      "Requirement already satisfied: tokenizers<0.22,>=0.21 in /opt/miniconda3/envs/llm_env/lib/python3.9/site-packages (from transformers) (0.21.1)\n",
      "Requirement already satisfied: safetensors>=0.4.3 in /opt/miniconda3/envs/llm_env/lib/python3.9/site-packages (from transformers) (0.5.3)\n",
      "Requirement already satisfied: tqdm>=4.27 in /opt/miniconda3/envs/llm_env/lib/python3.9/site-packages (from transformers) (4.67.1)\n",
      "Requirement already satisfied: fsspec>=2023.5.0 in /opt/miniconda3/envs/llm_env/lib/python3.9/site-packages (from huggingface-hub<1.0,>=0.30.0->transformers) (2025.3.2)\n",
      "Requirement already satisfied: typing-extensions>=3.7.4.3 in /opt/miniconda3/envs/llm_env/lib/python3.9/site-packages (from huggingface-hub<1.0,>=0.30.0->transformers) (4.12.2)\n",
      "Requirement already satisfied: charset-normalizer<4,>=2 in /opt/miniconda3/envs/llm_env/lib/python3.9/site-packages (from requests->transformers) (3.4.2)\n",
      "Requirement already satisfied: idna<4,>=2.5 in /opt/miniconda3/envs/llm_env/lib/python3.9/site-packages (from requests->transformers) (3.7)\n",
      "Requirement already satisfied: urllib3<3,>=1.21.1 in /opt/miniconda3/envs/llm_env/lib/python3.9/site-packages (from requests->transformers) (2.4.0)\n",
      "Requirement already satisfied: certifi>=2017.4.17 in /opt/miniconda3/envs/llm_env/lib/python3.9/site-packages (from requests->transformers) (2025.4.26)\n"
     ]
    }
   ],
   "source": [
    "!pip install transformers"
   ]
  },
  {
   "cell_type": "code",
   "execution_count": 5,
   "id": "66980cfe",
   "metadata": {},
   "outputs": [
    {
     "name": "stdout",
     "output_type": "stream",
     "text": [
      "# packages in environment at /opt/miniconda3/envs/llm_env:\n",
      "#\n",
      "# Name                    Version                   Build  Channel\n",
      "pytorch                   2.5.1           gpu_mps_py39hbd1d365_204  \n"
     ]
    }
   ],
   "source": [
    "!conda list pytorch"
   ]
  },
  {
   "cell_type": "code",
   "execution_count": 2,
   "id": "fa1cb5e4",
   "metadata": {},
   "outputs": [
    {
     "name": "stdout",
     "output_type": "stream",
     "text": [
      "Collecting hf_xet\n",
      "  Downloading hf_xet-1.1.2-cp37-abi3-macosx_11_0_arm64.whl.metadata (879 bytes)\n",
      "Downloading hf_xet-1.1.2-cp37-abi3-macosx_11_0_arm64.whl (2.5 MB)\n",
      "\u001b[2K   \u001b[90m━━━━━━━━━━━━━━━━━━━━━━━━━━━━━━━━━━━━━━━━\u001b[0m \u001b[32m2.5/2.5 MB\u001b[0m \u001b[31m22.7 MB/s\u001b[0m eta \u001b[36m0:00:00\u001b[0m\n",
      "\u001b[?25hInstalling collected packages: hf_xet\n",
      "Successfully installed hf_xet-1.1.2\n"
     ]
    }
   ],
   "source": [
    "!pip install hf_xet"
   ]
  },
  {
   "cell_type": "code",
   "execution_count": 7,
   "id": "5bf8e055",
   "metadata": {},
   "outputs": [],
   "source": [
    "# pytorch cpu(전용) 2.0.1\n",
    "# conda install pytorch=2.0.1 torchvision torchaudio cpuonly -c pytorch\n",
    "\n",
    "# Transformers는 호환되는 버전으로\n",
    "# conda install transformers==4.31.0\n",
    "\n",
    "#conda uninstall pillow -y\n",
    "\n",
    "#pip install hf_xet"
   ]
  },
  {
   "cell_type": "code",
   "execution_count": 6,
   "id": "053466f5",
   "metadata": {},
   "outputs": [],
   "source": [
    "from transformers import AutoTokenizer, AutoModelForCausalLM\n",
    "# Lima -3 --> 경량화 모델\n",
    "model_name = 'facebook/opt-125m'\n",
    "model = AutoModelForCausalLM.from_pretrained(model_name)\n",
    "tokenizer = AutoTokenizer.from_pretrained(model_name)"
   ]
  },
  {
   "cell_type": "code",
   "execution_count": null,
   "id": "c10dd5fd",
   "metadata": {},
   "outputs": [],
   "source": [
    "# pytorch cpu(전용) 2.0.1\n",
    "# python = 3.10\n",
    "!conda install pytorch=2.0.1 torchvision torchaudio cpuonly -c pytorch\n",
    "!conda install transformers==4.31.0"
   ]
  }
 ],
 "metadata": {
  "kernelspec": {
   "display_name": "llm_env",
   "language": "python",
   "name": "python3"
  },
  "language_info": {
   "codemirror_mode": {
    "name": "ipython",
    "version": 3
   },
   "file_extension": ".py",
   "mimetype": "text/x-python",
   "name": "python",
   "nbconvert_exporter": "python",
   "pygments_lexer": "ipython3",
   "version": "3.9.21"
  }
 },
 "nbformat": 4,
 "nbformat_minor": 5
}
