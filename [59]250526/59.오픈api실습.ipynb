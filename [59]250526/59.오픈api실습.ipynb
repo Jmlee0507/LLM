{
 "cells": [
  {
   "cell_type": "code",
   "execution_count": 1,
   "id": "d8d7475f",
   "metadata": {},
   "outputs": [
    {
     "name": "stdout",
     "output_type": "stream",
     "text": [
      "Collecting langchain\n",
      "  Downloading langchain-0.3.25-py3-none-any.whl.metadata (7.8 kB)\n",
      "Collecting langchain-openai\n",
      "  Downloading langchain_openai-0.3.18-py3-none-any.whl.metadata (2.3 kB)\n",
      "Collecting python-dotenv\n",
      "  Using cached python_dotenv-1.1.0-py3-none-any.whl.metadata (24 kB)\n",
      "Collecting langchain-core<1.0.0,>=0.3.58 (from langchain)\n",
      "  Downloading langchain_core-0.3.61-py3-none-any.whl.metadata (5.8 kB)\n",
      "Collecting langchain-text-splitters<1.0.0,>=0.3.8 (from langchain)\n",
      "  Downloading langchain_text_splitters-0.3.8-py3-none-any.whl.metadata (1.9 kB)\n",
      "Collecting langsmith<0.4,>=0.1.17 (from langchain)\n",
      "  Downloading langsmith-0.3.42-py3-none-any.whl.metadata (15 kB)\n",
      "Requirement already satisfied: pydantic<3.0.0,>=2.7.4 in /opt/miniconda3/envs/llm_env/lib/python3.10/site-packages (from langchain) (2.10.3)\n",
      "Collecting SQLAlchemy<3,>=1.4 (from langchain)\n",
      "  Downloading sqlalchemy-2.0.41-cp310-cp310-macosx_11_0_arm64.whl.metadata (9.6 kB)\n",
      "Requirement already satisfied: requests<3,>=2 in /opt/miniconda3/envs/llm_env/lib/python3.10/site-packages (from langchain) (2.32.3)\n",
      "Requirement already satisfied: PyYAML>=5.3 in /opt/miniconda3/envs/llm_env/lib/python3.10/site-packages (from langchain) (6.0.2)\n",
      "Collecting async-timeout<5.0.0,>=4.0.0 (from langchain)\n",
      "  Downloading async_timeout-4.0.3-py3-none-any.whl.metadata (4.2 kB)\n",
      "Collecting tenacity!=8.4.0,<10.0.0,>=8.1.0 (from langchain-core<1.0.0,>=0.3.58->langchain)\n",
      "  Downloading tenacity-9.1.2-py3-none-any.whl.metadata (1.2 kB)\n",
      "Collecting jsonpatch<2.0,>=1.33 (from langchain-core<1.0.0,>=0.3.58->langchain)\n",
      "  Downloading jsonpatch-1.33-py2.py3-none-any.whl.metadata (3.0 kB)\n",
      "Collecting packaging<25,>=23.2 (from langchain-core<1.0.0,>=0.3.58->langchain)\n",
      "  Using cached packaging-24.2-py3-none-any.whl.metadata (3.2 kB)\n",
      "Requirement already satisfied: typing-extensions>=4.7 in /opt/miniconda3/envs/llm_env/lib/python3.10/site-packages (from langchain-core<1.0.0,>=0.3.58->langchain) (4.13.2)\n",
      "Collecting jsonpointer>=1.9 (from jsonpatch<2.0,>=1.33->langchain-core<1.0.0,>=0.3.58->langchain)\n",
      "  Using cached jsonpointer-3.0.0-py2.py3-none-any.whl.metadata (2.3 kB)\n",
      "Requirement already satisfied: httpx<1,>=0.23.0 in /opt/miniconda3/envs/llm_env/lib/python3.10/site-packages (from langsmith<0.4,>=0.1.17->langchain) (0.28.1)\n",
      "Collecting orjson<4.0.0,>=3.9.14 (from langsmith<0.4,>=0.1.17->langchain)\n",
      "  Downloading orjson-3.10.18-cp310-cp310-macosx_10_15_x86_64.macosx_11_0_arm64.macosx_10_15_universal2.whl.metadata (41 kB)\n",
      "Collecting requests-toolbelt<2.0.0,>=1.0.0 (from langsmith<0.4,>=0.1.17->langchain)\n",
      "  Using cached requests_toolbelt-1.0.0-py2.py3-none-any.whl.metadata (14 kB)\n",
      "Collecting zstandard<0.24.0,>=0.23.0 (from langsmith<0.4,>=0.1.17->langchain)\n",
      "  Downloading zstandard-0.23.0-cp310-cp310-macosx_11_0_arm64.whl.metadata (3.0 kB)\n",
      "Requirement already satisfied: anyio in /opt/miniconda3/envs/llm_env/lib/python3.10/site-packages (from httpx<1,>=0.23.0->langsmith<0.4,>=0.1.17->langchain) (4.7.0)\n",
      "Requirement already satisfied: certifi in /opt/miniconda3/envs/llm_env/lib/python3.10/site-packages (from httpx<1,>=0.23.0->langsmith<0.4,>=0.1.17->langchain) (2025.4.26)\n",
      "Requirement already satisfied: httpcore==1.* in /opt/miniconda3/envs/llm_env/lib/python3.10/site-packages (from httpx<1,>=0.23.0->langsmith<0.4,>=0.1.17->langchain) (1.0.2)\n",
      "Requirement already satisfied: idna in /opt/miniconda3/envs/llm_env/lib/python3.10/site-packages (from httpx<1,>=0.23.0->langsmith<0.4,>=0.1.17->langchain) (3.7)\n",
      "Requirement already satisfied: h11<0.15,>=0.13 in /opt/miniconda3/envs/llm_env/lib/python3.10/site-packages (from httpcore==1.*->httpx<1,>=0.23.0->langsmith<0.4,>=0.1.17->langchain) (0.14.0)\n",
      "Requirement already satisfied: annotated-types>=0.6.0 in /opt/miniconda3/envs/llm_env/lib/python3.10/site-packages (from pydantic<3.0.0,>=2.7.4->langchain) (0.6.0)\n",
      "Requirement already satisfied: pydantic-core==2.27.1 in /opt/miniconda3/envs/llm_env/lib/python3.10/site-packages (from pydantic<3.0.0,>=2.7.4->langchain) (2.27.1)\n",
      "Requirement already satisfied: charset-normalizer<4,>=2 in /opt/miniconda3/envs/llm_env/lib/python3.10/site-packages (from requests<3,>=2->langchain) (3.4.2)\n",
      "Requirement already satisfied: urllib3<3,>=1.21.1 in /opt/miniconda3/envs/llm_env/lib/python3.10/site-packages (from requests<3,>=2->langchain) (2.4.0)\n",
      "Requirement already satisfied: openai<2.0.0,>=1.68.2 in /opt/miniconda3/envs/llm_env/lib/python3.10/site-packages (from langchain-openai) (1.77.0)\n",
      "Collecting tiktoken<1,>=0.7 (from langchain-openai)\n",
      "  Using cached tiktoken-0.9.0-cp310-cp310-macosx_11_0_arm64.whl.metadata (6.7 kB)\n",
      "Requirement already satisfied: distro<2,>=1.7.0 in /opt/miniconda3/envs/llm_env/lib/python3.10/site-packages (from openai<2.0.0,>=1.68.2->langchain-openai) (1.9.0)\n",
      "Requirement already satisfied: jiter<1,>=0.4.0 in /opt/miniconda3/envs/llm_env/lib/python3.10/site-packages (from openai<2.0.0,>=1.68.2->langchain-openai) (0.6.1)\n",
      "Requirement already satisfied: sniffio in /opt/miniconda3/envs/llm_env/lib/python3.10/site-packages (from openai<2.0.0,>=1.68.2->langchain-openai) (1.3.0)\n",
      "Requirement already satisfied: tqdm>4 in /opt/miniconda3/envs/llm_env/lib/python3.10/site-packages (from openai<2.0.0,>=1.68.2->langchain-openai) (4.67.1)\n",
      "Requirement already satisfied: exceptiongroup>=1.0.2 in /opt/miniconda3/envs/llm_env/lib/python3.10/site-packages (from anyio->httpx<1,>=0.23.0->langsmith<0.4,>=0.1.17->langchain) (1.3.0)\n",
      "Requirement already satisfied: regex>=2022.1.18 in /opt/miniconda3/envs/llm_env/lib/python3.10/site-packages (from tiktoken<1,>=0.7->langchain-openai) (2024.11.6)\n",
      "Downloading langchain-0.3.25-py3-none-any.whl (1.0 MB)\n",
      "\u001b[2K   \u001b[90m━━━━━━━━━━━━━━━━━━━━━━━━━━━━━━━━━━━━━━━━\u001b[0m \u001b[32m1.0/1.0 MB\u001b[0m \u001b[31m51.1 MB/s\u001b[0m eta \u001b[36m0:00:00\u001b[0m\n",
      "\u001b[?25hDownloading async_timeout-4.0.3-py3-none-any.whl (5.7 kB)\n",
      "Downloading langchain_core-0.3.61-py3-none-any.whl (438 kB)\n",
      "Downloading jsonpatch-1.33-py2.py3-none-any.whl (12 kB)\n",
      "Downloading langchain_text_splitters-0.3.8-py3-none-any.whl (32 kB)\n",
      "Downloading langsmith-0.3.42-py3-none-any.whl (360 kB)\n",
      "Downloading orjson-3.10.18-cp310-cp310-macosx_10_15_x86_64.macosx_11_0_arm64.macosx_10_15_universal2.whl (248 kB)\n",
      "Using cached packaging-24.2-py3-none-any.whl (65 kB)\n",
      "Using cached requests_toolbelt-1.0.0-py2.py3-none-any.whl (54 kB)\n",
      "Downloading sqlalchemy-2.0.41-cp310-cp310-macosx_11_0_arm64.whl (2.1 MB)\n",
      "\u001b[2K   \u001b[90m━━━━━━━━━━━━━━━━━━━━━━━━━━━━━━━━━━━━━━━━\u001b[0m \u001b[32m2.1/2.1 MB\u001b[0m \u001b[31m28.2 MB/s\u001b[0m eta \u001b[36m0:00:00\u001b[0m\n",
      "\u001b[?25hDownloading tenacity-9.1.2-py3-none-any.whl (28 kB)\n",
      "Downloading zstandard-0.23.0-cp310-cp310-macosx_11_0_arm64.whl (633 kB)\n",
      "\u001b[2K   \u001b[90m━━━━━━━━━━━━━━━━━━━━━━━━━━━━━━━━━━━━━━━━\u001b[0m \u001b[32m633.7/633.7 kB\u001b[0m \u001b[31m46.6 MB/s\u001b[0m eta \u001b[36m0:00:00\u001b[0m\n",
      "\u001b[?25hDownloading langchain_openai-0.3.18-py3-none-any.whl (63 kB)\n",
      "Using cached tiktoken-0.9.0-cp310-cp310-macosx_11_0_arm64.whl (1.0 MB)\n",
      "Using cached python_dotenv-1.1.0-py3-none-any.whl (20 kB)\n",
      "Using cached jsonpointer-3.0.0-py2.py3-none-any.whl (7.6 kB)\n",
      "Installing collected packages: zstandard, tenacity, SQLAlchemy, python-dotenv, packaging, orjson, jsonpointer, async-timeout, tiktoken, requests-toolbelt, jsonpatch, langsmith, langchain-core, langchain-text-splitters, langchain-openai, langchain\n",
      "\u001b[2K  Attempting uninstall: packaging━━━━━━━━━━━━━━━━━━━━━━━━━━━━━━━━━\u001b[0m \u001b[32m 2/16\u001b[0m [SQLAlchemy]\n",
      "\u001b[2K    Found existing installation: packaging 25.0━━━━━━━━━━━━━━━\u001b[0m \u001b[32m 2/16\u001b[0m [SQLAlchemy]\n",
      "\u001b[2K    Uninstalling packaging-25.0:━━━━━━━━━━━━━━━━━━━━━━━━━━━━━━\u001b[0m \u001b[32m 2/16\u001b[0m [SQLAlchemy]\n",
      "\u001b[2K      Successfully uninstalled packaging-25.0━━━━━━━━━━━━━━━━━\u001b[0m \u001b[32m 2/16\u001b[0m [SQLAlchemy]\n",
      "\u001b[2K   \u001b[90m━━━━━━━━━━━━━━━━━━━━━━━━━━━━━━━━━━━━━━━━\u001b[0m \u001b[32m16/16\u001b[0m [langchain]16\u001b[0m [langchain]core]\n",
      "\u001b[1A\u001b[2KSuccessfully installed SQLAlchemy-2.0.41 async-timeout-4.0.3 jsonpatch-1.33 jsonpointer-3.0.0 langchain-0.3.25 langchain-core-0.3.61 langchain-openai-0.3.18 langchain-text-splitters-0.3.8 langsmith-0.3.42 orjson-3.10.18 packaging-24.2 python-dotenv-1.1.0 requests-toolbelt-1.0.0 tenacity-9.1.2 tiktoken-0.9.0 zstandard-0.23.0\n",
      "Note: you may need to restart the kernel to use updated packages.\n"
     ]
    }
   ],
   "source": [
    "%pip install langchain langchain-openai python-dotenv"
   ]
  },
  {
   "cell_type": "code",
   "execution_count": 8,
   "id": "2489ba56",
   "metadata": {},
   "outputs": [
    {
     "data": {
      "text/plain": [
       "'sk-p'"
      ]
     },
     "execution_count": 8,
     "metadata": {},
     "output_type": "execute_result"
    }
   ],
   "source": [
    "from dotenv import load_dotenv\n",
    "load_dotenv() #.env 파일 내용을 환경변수로 로드\n",
    "import os\n",
    "os.getenv('OPENAI_API_KEY')[:4]"
   ]
  },
  {
   "cell_type": "markdown",
   "id": "fdf473b6",
   "metadata": {},
   "source": [
    "```\n",
    "Langchain의 핵심컴포넌트 : 모델 호출단계를 구성하는 추상화 요소를 제공\n",
    "    - PromptTemplate : LLM에 보낼 입력 프롬프트\n",
    "    - ChatOpenAI : openai의 GPT- 모델 호출\n",
    "    - Runnable : 실행가능한 객체에 대한 공통 인터페이스 -> invoke() 메소드를 통해서 입력 -> 출력 지원\n",
    "    - StrOutPutParser : 문자열 출력 파서\n",
    "파이프로 연결 가능 ... ex) prompt |(파이프) llm | strparser\n",
    "```"
   ]
  },
  {
   "cell_type": "code",
   "execution_count": 10,
   "id": "a3f27e15",
   "metadata": {},
   "outputs": [
    {
     "data": {
      "text/plain": [
       "'커피 제품을 생산하는 회사 이름을 뭘로 하면 좋을까?'"
      ]
     },
     "execution_count": 10,
     "metadata": {},
     "output_type": "execute_result"
    }
   ],
   "source": [
    "from langchain_core.prompts import PromptTemplate\n",
    "template = \"{product} 제품을 생산하는 회사 이름을 뭘로 하면 좋을까?\"\n",
    "prompt = PromptTemplate.from_template(template)\n",
    "formated_prompt = prompt.format(product = '커피')\n",
    "formated_prompt"
   ]
  },
  {
   "cell_type": "code",
   "execution_count": 11,
   "id": "1ac28fb8",
   "metadata": {},
   "outputs": [
    {
     "data": {
      "text/plain": [
       "AIMessage(content='안녕하세요! 어떻게 도와드릴까요?', additional_kwargs={'refusal': None}, response_metadata={'token_usage': {'completion_tokens': 10, 'prompt_tokens': 9, 'total_tokens': 19, 'completion_tokens_details': {'accepted_prediction_tokens': 0, 'audio_tokens': 0, 'reasoning_tokens': 0, 'rejected_prediction_tokens': 0}, 'prompt_tokens_details': {'audio_tokens': 0, 'cached_tokens': 0}}, 'model_name': 'gpt-4o-mini-2024-07-18', 'system_fingerprint': 'fp_34a54ae93c', 'id': 'chatcmpl-BbG6HbFgSRoQUl3k48rz1vNMvA3Xp', 'service_tier': 'default', 'finish_reason': 'stop', 'logprobs': None}, id='run--00fb0c78-aed1-47fc-a957-3ec31aef1c09-0', usage_metadata={'input_tokens': 9, 'output_tokens': 10, 'total_tokens': 19, 'input_token_details': {'audio': 0, 'cache_read': 0}, 'output_token_details': {'audio': 0, 'reasoning': 0}})"
      ]
     },
     "execution_count": 11,
     "metadata": {},
     "output_type": "execute_result"
    }
   ],
   "source": [
    "from langchain_openai import ChatOpenAI\n",
    "llm = ChatOpenAI(model = 'gpt-4o-mini',temperature=0) # Runnable 객체 --> invoke()\n",
    "response = llm.invoke([('human','안녕')]) #리스트 형식으로 해서 튜플로 입력\n",
    "response\n"
   ]
  },
  {
   "cell_type": "code",
   "execution_count": 12,
   "id": "6954fde6",
   "metadata": {},
   "outputs": [
    {
     "data": {
      "text/plain": [
       "'안녕하세요! 어떻게 도와드릴까요?'"
      ]
     },
     "execution_count": 12,
     "metadata": {},
     "output_type": "execute_result"
    }
   ],
   "source": [
    "# 문자열 출력 파서 Runnable 객체 - invoke\n",
    "from langchain_core.output_parsers import StrOutputParser\n",
    "parser = StrOutputParser()\n",
    "parsed_text = parser.invoke(response)\n",
    "parsed_text"
   ]
  },
  {
   "cell_type": "markdown",
   "id": "84d60ef9",
   "metadata": {},
   "source": [
    "LangChain Expression Language(LCEL) 단일 체인 실행"
   ]
  },
  {
   "cell_type": "code",
   "execution_count": 13,
   "id": "d81876ef",
   "metadata": {},
   "outputs": [
    {
     "name": "stdout",
     "output_type": "stream",
     "text": [
      "커피 제품을 생산하는 회사 이름으로는 다음과 같은 아이디어를 고려해볼 수 있습니다:\n",
      "\n",
      "1. **커피의 정원** (Garden of Coffee)\n",
      "2. **아침의 향기** (Morning Aroma)\n",
      "3. **커피 이야기** (Coffee Tales)\n",
      "4. **한 잔의 여유** (A Cup of Leisure)\n",
      "5. **커피 마법** (Coffee Magic)\n",
      "6. **원두의 미소** (Bean's Smile)\n",
      "7. **커피의 예술** (Art of Coffee)\n",
      "8. **커피 여행** (Coffee Journey)\n",
      "9. **향긋한 순간** (Fragrant Moments)\n",
      "10. **커피의 꿈** (Dream of Coffee)\n",
      "\n",
      "이름을 정할 때는 브랜드의 이미지와 목표, 타겟 고객층을 고려하는 것이 중요합니다. 어떤 느낌을 주고 싶은지 생각해보세요!\n"
     ]
    }
   ],
   "source": [
    "chain = prompt | llm | parser # runnable 객체 --> invoke\n",
    "result = chain.invoke({\"product\":\"coffee\"})\n",
    "print(result)"
   ]
  },
  {
   "cell_type": "markdown",
   "id": "5a6c6990",
   "metadata": {},
   "source": [
    "```\n",
    "LangChain을 활용한 모델 사용, 비용 모니터링 및 캐싱 전략\n",
    "    GPT-4o-mini GPT-3.5-turbo 비용이 60% 저렴\n",
    "    Langchain V0.3x 부터 openAI가 별도 패키지로 분리되어 있어서 필요한 패키치 설치해야함: langchain-openai 필요\n",
    "    토큰사용량 추적, 캐싱을 위한 langchain-community도 별도 설치\n",
    "    환경변수 변수 관리 패키지 : python-dotenv\n",
    "```"
   ]
  },
  {
   "cell_type": "code",
   "execution_count": 14,
   "id": "776ef4f3",
   "metadata": {},
   "outputs": [
    {
     "name": "stdout",
     "output_type": "stream",
     "text": [
      "Requirement already satisfied: langchain-openai in /opt/miniconda3/envs/llm_env/lib/python3.10/site-packages (0.3.18)\n",
      "Collecting langchain-community\n",
      "  Downloading langchain_community-0.3.24-py3-none-any.whl.metadata (2.5 kB)\n",
      "Requirement already satisfied: python-dotenv in /opt/miniconda3/envs/llm_env/lib/python3.10/site-packages (1.1.0)\n",
      "Requirement already satisfied: openai in /opt/miniconda3/envs/llm_env/lib/python3.10/site-packages (1.77.0)\n",
      "Requirement already satisfied: langchain-core<1.0.0,>=0.3.61 in /opt/miniconda3/envs/llm_env/lib/python3.10/site-packages (from langchain-openai) (0.3.61)\n",
      "Requirement already satisfied: tiktoken<1,>=0.7 in /opt/miniconda3/envs/llm_env/lib/python3.10/site-packages (from langchain-openai) (0.9.0)\n",
      "Requirement already satisfied: anyio<5,>=3.5.0 in /opt/miniconda3/envs/llm_env/lib/python3.10/site-packages (from openai) (4.7.0)\n",
      "Requirement already satisfied: distro<2,>=1.7.0 in /opt/miniconda3/envs/llm_env/lib/python3.10/site-packages (from openai) (1.9.0)\n",
      "Requirement already satisfied: httpx<1,>=0.23.0 in /opt/miniconda3/envs/llm_env/lib/python3.10/site-packages (from openai) (0.28.1)\n",
      "Requirement already satisfied: jiter<1,>=0.4.0 in /opt/miniconda3/envs/llm_env/lib/python3.10/site-packages (from openai) (0.6.1)\n",
      "Requirement already satisfied: pydantic<3,>=1.9.0 in /opt/miniconda3/envs/llm_env/lib/python3.10/site-packages (from openai) (2.10.3)\n",
      "Requirement already satisfied: sniffio in /opt/miniconda3/envs/llm_env/lib/python3.10/site-packages (from openai) (1.3.0)\n",
      "Requirement already satisfied: tqdm>4 in /opt/miniconda3/envs/llm_env/lib/python3.10/site-packages (from openai) (4.67.1)\n",
      "Requirement already satisfied: typing-extensions<5,>=4.11 in /opt/miniconda3/envs/llm_env/lib/python3.10/site-packages (from openai) (4.13.2)\n",
      "Requirement already satisfied: exceptiongroup>=1.0.2 in /opt/miniconda3/envs/llm_env/lib/python3.10/site-packages (from anyio<5,>=3.5.0->openai) (1.3.0)\n",
      "Requirement already satisfied: idna>=2.8 in /opt/miniconda3/envs/llm_env/lib/python3.10/site-packages (from anyio<5,>=3.5.0->openai) (3.7)\n",
      "Requirement already satisfied: certifi in /opt/miniconda3/envs/llm_env/lib/python3.10/site-packages (from httpx<1,>=0.23.0->openai) (2025.4.26)\n",
      "Requirement already satisfied: httpcore==1.* in /opt/miniconda3/envs/llm_env/lib/python3.10/site-packages (from httpx<1,>=0.23.0->openai) (1.0.2)\n",
      "Requirement already satisfied: h11<0.15,>=0.13 in /opt/miniconda3/envs/llm_env/lib/python3.10/site-packages (from httpcore==1.*->httpx<1,>=0.23.0->openai) (0.14.0)\n",
      "Requirement already satisfied: langsmith<0.4,>=0.1.126 in /opt/miniconda3/envs/llm_env/lib/python3.10/site-packages (from langchain-core<1.0.0,>=0.3.61->langchain-openai) (0.3.42)\n",
      "Requirement already satisfied: tenacity!=8.4.0,<10.0.0,>=8.1.0 in /opt/miniconda3/envs/llm_env/lib/python3.10/site-packages (from langchain-core<1.0.0,>=0.3.61->langchain-openai) (9.1.2)\n",
      "Requirement already satisfied: jsonpatch<2.0,>=1.33 in /opt/miniconda3/envs/llm_env/lib/python3.10/site-packages (from langchain-core<1.0.0,>=0.3.61->langchain-openai) (1.33)\n",
      "Requirement already satisfied: PyYAML>=5.3 in /opt/miniconda3/envs/llm_env/lib/python3.10/site-packages (from langchain-core<1.0.0,>=0.3.61->langchain-openai) (6.0.2)\n",
      "Requirement already satisfied: packaging<25,>=23.2 in /opt/miniconda3/envs/llm_env/lib/python3.10/site-packages (from langchain-core<1.0.0,>=0.3.61->langchain-openai) (24.2)\n",
      "Requirement already satisfied: jsonpointer>=1.9 in /opt/miniconda3/envs/llm_env/lib/python3.10/site-packages (from jsonpatch<2.0,>=1.33->langchain-core<1.0.0,>=0.3.61->langchain-openai) (3.0.0)\n",
      "Requirement already satisfied: orjson<4.0.0,>=3.9.14 in /opt/miniconda3/envs/llm_env/lib/python3.10/site-packages (from langsmith<0.4,>=0.1.126->langchain-core<1.0.0,>=0.3.61->langchain-openai) (3.10.18)\n",
      "Requirement already satisfied: requests<3,>=2 in /opt/miniconda3/envs/llm_env/lib/python3.10/site-packages (from langsmith<0.4,>=0.1.126->langchain-core<1.0.0,>=0.3.61->langchain-openai) (2.32.3)\n",
      "Requirement already satisfied: requests-toolbelt<2.0.0,>=1.0.0 in /opt/miniconda3/envs/llm_env/lib/python3.10/site-packages (from langsmith<0.4,>=0.1.126->langchain-core<1.0.0,>=0.3.61->langchain-openai) (1.0.0)\n",
      "Requirement already satisfied: zstandard<0.24.0,>=0.23.0 in /opt/miniconda3/envs/llm_env/lib/python3.10/site-packages (from langsmith<0.4,>=0.1.126->langchain-core<1.0.0,>=0.3.61->langchain-openai) (0.23.0)\n",
      "Requirement already satisfied: annotated-types>=0.6.0 in /opt/miniconda3/envs/llm_env/lib/python3.10/site-packages (from pydantic<3,>=1.9.0->openai) (0.6.0)\n",
      "Requirement already satisfied: pydantic-core==2.27.1 in /opt/miniconda3/envs/llm_env/lib/python3.10/site-packages (from pydantic<3,>=1.9.0->openai) (2.27.1)\n",
      "Requirement already satisfied: charset-normalizer<4,>=2 in /opt/miniconda3/envs/llm_env/lib/python3.10/site-packages (from requests<3,>=2->langsmith<0.4,>=0.1.126->langchain-core<1.0.0,>=0.3.61->langchain-openai) (3.4.2)\n",
      "Requirement already satisfied: urllib3<3,>=1.21.1 in /opt/miniconda3/envs/llm_env/lib/python3.10/site-packages (from requests<3,>=2->langsmith<0.4,>=0.1.126->langchain-core<1.0.0,>=0.3.61->langchain-openai) (2.4.0)\n",
      "Requirement already satisfied: regex>=2022.1.18 in /opt/miniconda3/envs/llm_env/lib/python3.10/site-packages (from tiktoken<1,>=0.7->langchain-openai) (2024.11.6)\n",
      "Requirement already satisfied: langchain<1.0.0,>=0.3.25 in /opt/miniconda3/envs/llm_env/lib/python3.10/site-packages (from langchain-community) (0.3.25)\n",
      "Requirement already satisfied: SQLAlchemy<3,>=1.4 in /opt/miniconda3/envs/llm_env/lib/python3.10/site-packages (from langchain-community) (2.0.41)\n",
      "Collecting aiohttp<4.0.0,>=3.8.3 (from langchain-community)\n",
      "  Downloading aiohttp-3.12.0-cp310-cp310-macosx_11_0_arm64.whl.metadata (7.6 kB)\n",
      "Collecting dataclasses-json<0.7,>=0.5.7 (from langchain-community)\n",
      "  Downloading dataclasses_json-0.6.7-py3-none-any.whl.metadata (25 kB)\n",
      "Collecting pydantic-settings<3.0.0,>=2.4.0 (from langchain-community)\n",
      "  Downloading pydantic_settings-2.9.1-py3-none-any.whl.metadata (3.8 kB)\n",
      "Collecting httpx-sse<1.0.0,>=0.4.0 (from langchain-community)\n",
      "  Downloading httpx_sse-0.4.0-py3-none-any.whl.metadata (9.0 kB)\n",
      "Requirement already satisfied: numpy>=1.26.2 in /opt/miniconda3/envs/llm_env/lib/python3.10/site-packages (from langchain-community) (2.2.5)\n",
      "Collecting aiohappyeyeballs>=2.5.0 (from aiohttp<4.0.0,>=3.8.3->langchain-community)\n",
      "  Downloading aiohappyeyeballs-2.6.1-py3-none-any.whl.metadata (5.9 kB)\n",
      "Collecting aiosignal>=1.1.2 (from aiohttp<4.0.0,>=3.8.3->langchain-community)\n",
      "  Downloading aiosignal-1.3.2-py2.py3-none-any.whl.metadata (3.8 kB)\n",
      "Requirement already satisfied: async-timeout<6.0,>=4.0 in /opt/miniconda3/envs/llm_env/lib/python3.10/site-packages (from aiohttp<4.0.0,>=3.8.3->langchain-community) (4.0.3)\n",
      "Collecting attrs>=17.3.0 (from aiohttp<4.0.0,>=3.8.3->langchain-community)\n",
      "  Downloading attrs-25.3.0-py3-none-any.whl.metadata (10 kB)\n",
      "Collecting frozenlist>=1.1.1 (from aiohttp<4.0.0,>=3.8.3->langchain-community)\n",
      "  Downloading frozenlist-1.6.0-cp310-cp310-macosx_11_0_arm64.whl.metadata (16 kB)\n",
      "Collecting multidict<7.0,>=4.5 (from aiohttp<4.0.0,>=3.8.3->langchain-community)\n",
      "  Downloading multidict-6.4.4-cp310-cp310-macosx_11_0_arm64.whl.metadata (5.3 kB)\n",
      "Collecting propcache>=0.2.0 (from aiohttp<4.0.0,>=3.8.3->langchain-community)\n",
      "  Downloading propcache-0.3.1-cp310-cp310-macosx_11_0_arm64.whl.metadata (10 kB)\n",
      "Collecting yarl<2.0,>=1.17.0 (from aiohttp<4.0.0,>=3.8.3->langchain-community)\n",
      "  Downloading yarl-1.20.0-cp310-cp310-macosx_11_0_arm64.whl.metadata (72 kB)\n",
      "Collecting marshmallow<4.0.0,>=3.18.0 (from dataclasses-json<0.7,>=0.5.7->langchain-community)\n",
      "  Downloading marshmallow-3.26.1-py3-none-any.whl.metadata (7.3 kB)\n",
      "Collecting typing-inspect<1,>=0.4.0 (from dataclasses-json<0.7,>=0.5.7->langchain-community)\n",
      "  Downloading typing_inspect-0.9.0-py3-none-any.whl.metadata (1.5 kB)\n",
      "Requirement already satisfied: langchain-text-splitters<1.0.0,>=0.3.8 in /opt/miniconda3/envs/llm_env/lib/python3.10/site-packages (from langchain<1.0.0,>=0.3.25->langchain-community) (0.3.8)\n",
      "Collecting typing-inspection>=0.4.0 (from pydantic-settings<3.0.0,>=2.4.0->langchain-community)\n",
      "  Downloading typing_inspection-0.4.1-py3-none-any.whl.metadata (2.6 kB)\n",
      "Collecting mypy-extensions>=0.3.0 (from typing-inspect<1,>=0.4.0->dataclasses-json<0.7,>=0.5.7->langchain-community)\n",
      "  Downloading mypy_extensions-1.1.0-py3-none-any.whl.metadata (1.1 kB)\n",
      "Downloading langchain_community-0.3.24-py3-none-any.whl (2.5 MB)\n",
      "\u001b[2K   \u001b[90m━━━━━━━━━━━━━━━━━━━━━━━━━━━━━━━━━━━━━━━━\u001b[0m \u001b[32m2.5/2.5 MB\u001b[0m \u001b[31m81.2 MB/s\u001b[0m eta \u001b[36m0:00:00\u001b[0m\n",
      "\u001b[?25hDownloading aiohttp-3.12.0-cp310-cp310-macosx_11_0_arm64.whl (454 kB)\n",
      "Downloading dataclasses_json-0.6.7-py3-none-any.whl (28 kB)\n",
      "Downloading httpx_sse-0.4.0-py3-none-any.whl (7.8 kB)\n",
      "Downloading marshmallow-3.26.1-py3-none-any.whl (50 kB)\n",
      "Downloading multidict-6.4.4-cp310-cp310-macosx_11_0_arm64.whl (38 kB)\n",
      "Downloading pydantic_settings-2.9.1-py3-none-any.whl (44 kB)\n",
      "Downloading typing_inspect-0.9.0-py3-none-any.whl (8.8 kB)\n",
      "Downloading yarl-1.20.0-cp310-cp310-macosx_11_0_arm64.whl (94 kB)\n",
      "Downloading aiohappyeyeballs-2.6.1-py3-none-any.whl (15 kB)\n",
      "Downloading aiosignal-1.3.2-py2.py3-none-any.whl (7.6 kB)\n",
      "Downloading attrs-25.3.0-py3-none-any.whl (63 kB)\n",
      "Downloading frozenlist-1.6.0-cp310-cp310-macosx_11_0_arm64.whl (122 kB)\n",
      "Downloading mypy_extensions-1.1.0-py3-none-any.whl (5.0 kB)\n",
      "Downloading propcache-0.3.1-cp310-cp310-macosx_11_0_arm64.whl (45 kB)\n",
      "Downloading typing_inspection-0.4.1-py3-none-any.whl (14 kB)\n",
      "Installing collected packages: typing-inspection, propcache, mypy-extensions, multidict, marshmallow, httpx-sse, frozenlist, attrs, aiohappyeyeballs, yarl, typing-inspect, aiosignal, pydantic-settings, dataclasses-json, aiohttp, langchain-community\n",
      "\u001b[2K   \u001b[90m━━━━━━━━━━━━━━━━━━━━━━━━━━━━━━━━━━━━━━━━\u001b[0m \u001b[32m16/16\u001b[0m [langchain-community]ngchain-community]\n",
      "\u001b[1A\u001b[2KSuccessfully installed aiohappyeyeballs-2.6.1 aiohttp-3.12.0 aiosignal-1.3.2 attrs-25.3.0 dataclasses-json-0.6.7 frozenlist-1.6.0 httpx-sse-0.4.0 langchain-community-0.3.24 marshmallow-3.26.1 multidict-6.4.4 mypy-extensions-1.1.0 propcache-0.3.1 pydantic-settings-2.9.1 typing-inspect-0.9.0 typing-inspection-0.4.1 yarl-1.20.0\n",
      "Note: you may need to restart the kernel to use updated packages.\n"
     ]
    }
   ],
   "source": [
    "%pip install langchain-openai langchain-community python-dotenv openai"
   ]
  },
  {
   "cell_type": "code",
   "execution_count": 15,
   "id": "b9365476",
   "metadata": {},
   "outputs": [
    {
     "data": {
      "text/plain": [
       "True"
      ]
     },
     "execution_count": 15,
     "metadata": {},
     "output_type": "execute_result"
    }
   ],
   "source": [
    "# 환경변수 로드\n",
    "from dotenv import load_dotenv\n",
    "load_dotenv()"
   ]
  },
  {
   "cell_type": "code",
   "execution_count": null,
   "id": "ac15e131",
   "metadata": {},
   "outputs": [
    {
     "data": {
      "text/plain": [
       "'Langchain은 다양한 언어 모델과 데이터 소스를 통합하여 자연어 처리 애플리케이션을 구축할 수 있도록 돕는 프레임워크입니다.'"
      ]
     },
     "execution_count": 16,
     "metadata": {},
     "output_type": "execute_result"
    }
   ],
   "source": [
    "from langchain_openai import ChatOpenAI\n",
    "llm = ChatOpenAI(model='gpt-4o-mini',temperature=0.7) #dotenv를 하면 자동으로 OPENAI_API_KEY 참조\n",
    "prompt = \"Langchain에 대해 한 문장으로 설명해줘\"\n",
    "result = llm.invoke(prompt)\n",
    "result.content"
   ]
  },
  {
   "cell_type": "code",
   "execution_count": 17,
   "id": "ee219124",
   "metadata": {},
   "outputs": [
    {
     "data": {
      "text/plain": [
       "{'input_tokens': 18,\n",
       " 'output_tokens': 36,\n",
       " 'total_tokens': 54,\n",
       " 'input_token_details': {'audio': 0, 'cache_read': 0},\n",
       " 'output_token_details': {'audio': 0, 'reasoning': 0}}"
      ]
     },
     "execution_count": 17,
     "metadata": {},
     "output_type": "execute_result"
    }
   ],
   "source": [
    "#사용량\n",
    "result.usage_metadata"
   ]
  },
  {
   "cell_type": "code",
   "execution_count": null,
   "id": "f156448e",
   "metadata": {},
   "outputs": [
    {
     "name": "stdout",
     "output_type": "stream",
     "text": [
      "응답1 죄송하지만, 실시간 ...\n",
      "응답2 랭체인(LangCh ...\n",
      "총 토큰수: 661\n",
      "프롬프트 토큰수: 37\n",
      "응답 토큰수: 624\n",
      "비용(USD): 0.00037995\n"
     ]
    }
   ],
   "source": [
    "#콜백함수를 통한 누적 토큰 추적(get_openai_callback)\n",
    "from langchain_community.callbacks import get_openai_callback\n",
    "with get_openai_callback() as cb:\n",
    "    # 첫번째 호출\n",
    "    res1 = llm.invoke('서울의 오늘 날씨는 어떤지 알려줘')\n",
    "    print('응답1', res1.content[:10],'...')\n",
    "    # 두번째 호출\n",
    "    res2 = llm.invoke('파이썬으로 랭체인 사용법 알려줘')\n",
    "    print('응답2', res2.content[:10],'...')\n",
    "\n",
    "# 누적 토큰 사용량 출력 - 콜백 cb에는 블록 내 전체 토큰 사용량이 누적\n",
    "# 총 토큰 수\n",
    "print('총 토큰수:', cb.total_tokens)\n",
    "# 프롬프트 토큰 수\n",
    "print('프롬프트 토큰수:', cb.prompt_tokens)\n",
    "# 응답 토큰 수\n",
    "print('응답 토큰수:', cb.completion_tokens)\n",
    "# 비용 계산\n",
    "print('비용(USD):', cb.total_cost)"
   ]
  },
  {
   "cell_type": "code",
   "execution_count": 20,
   "id": "92c5d30a",
   "metadata": {},
   "outputs": [],
   "source": [
    "# Langchain의 LLM 응답캐싱 (InMemory Cache, SQLiteCache)\n",
    "# 사용하는 이유: 동일한 질문은 저장해뒀다가 응답에 사용\n",
    "from langchain_core.caches import InMemoryCache\n",
    "from langchain_core.globals import set_llm_cache\n",
    "# InMemoryCash 설정\n",
    "set_llm_cache(InMemoryCache())"
   ]
  },
  {
   "cell_type": "code",
   "execution_count": 24,
   "id": "13aa097e",
   "metadata": {},
   "outputs": [
    {
     "name": "stdout",
     "output_type": "stream",
     "text": [
      "응답1 : 물고기가 수영을 잘하는 이유는 무엇일까요?\n",
      "\n",
      "바로 \"물 속에서 훈련\"을 했기 때문이죠! 😂\n",
      "**************************************************\n",
      "응답2 : 물고기가 수영을 잘하는 이유는 무엇일까요?\n",
      "\n",
      "바로 \"물 속에서 훈련\"을 했기 때문이죠! 😂\n"
     ]
    }
   ],
   "source": [
    "# 캐시 사용 전후를 비교, 같은 질문을 두 번 호출\n",
    "query = \"재미있는 유머 하나 알려줘\"\n",
    "# 첫 번째 호출(캐시에 없으면 api 호출 발생)\n",
    "result1 = llm.invoke(query)\n",
    "print(f'응답1 : {result1.content}')\n",
    "print('*'*50)\n",
    "# 두 번째 호출(동일한 query, 캐시를 확인하고 동일 질문이면 api 미호출)\n",
    "result2 = llm.invoke(query)\n",
    "print(f'응답2 : {result2.content}')\n"
   ]
  },
  {
   "cell_type": "code",
   "execution_count": null,
   "id": "753149d2",
   "metadata": {},
   "outputs": [
    {
     "name": "stdout",
     "output_type": "stream",
     "text": [
      "첫번째 호출시간: 4.55459189414978\n",
      "두번째 호출시간: 0.0015299320220947266\n"
     ]
    }
   ],
   "source": [
    "# 실행시간 측정\n",
    "import time\n",
    "# 첫 번재 호출 시간\n",
    "query = '점심메뉴 추천해줘'\n",
    "start = time.time(); llm.invoke(query); end = time.time()\n",
    "print(f'첫번째 호출시간: {end-start}')\n",
    "\n",
    "start = time.time(); llm.invoke(query); end = time.time()\n",
    "print(f'두번째 호출시간: {end-start}') #거의 0초 예상, invoke했지만 api안가고 그냥 cache 메모리 안에 있는걸 꺼낸거니까\n",
    "# 이게 InMemory 방식. 시간비용 절약할 수 있고, 중복대답을 방지할 수 있다"
   ]
  },
  {
   "cell_type": "code",
   "execution_count": null,
   "id": "978fd56c",
   "metadata": {},
   "outputs": [
    {
     "name": "stdout",
     "output_type": "stream",
     "text": [
      "첫번째 호출시간: 1.5461149215698242\n",
      "응답1 : 물고기가 학교에 가면 뭘 배우죠? \n",
      "\n",
      "\"물리학\"이요! \n",
      "\n",
      "(왜냐하면 물속에 있으니까요!)\n",
      "두번째 호출시간: 0.001699209213256836\n",
      "응답2 : 물고기가 학교에 가면 뭘 배우죠? \n",
      "\n",
      "\"물리학\"이요! \n",
      "\n",
      "(왜냐하면 물속에 있으니까요!)\n"
     ]
    }
   ],
   "source": [
    "# SQLite 캐시(디스크기반 캐시)\n",
    "import os, time\n",
    "from langchain_community.cache import SQLiteCache\n",
    "# 기존 캐시 DB 삭제(.langchain.db 초기화)\n",
    "# 첫번째 실행 후 주석처리\n",
    "# if os.path.exists('.langchain.db'):\n",
    "#     os.remove('.langchain.db')\n",
    "\n",
    "# SQLite 캐시 설정(지정한 경로의 DB 파일을 생성 / 사용)\n",
    "set_llm_cache(SQLiteCache(database_path='.langchain.db')) #클래스를 이용해 객체 생성 , langchain.db있으면 사용, 없으면 생성\n",
    "\n",
    "# 동일한 query를 두번 호출해서 결과와 시간을 비교\n",
    "query = \"썰렁한 유머 하나 알려줘\"\n",
    "# 첫 번째 호출(캐시에 없으면 api 호출 발생)\n",
    "start = time.time(); result1 = llm.invoke(query); end = time.time()\n",
    "print(f'첫번째 호출시간: {end-start}')\n",
    "print(f'응답1 : {result1.content}')\n",
    "\n",
    "# 두 번째 호출(동일한 query, 캐시를 확인하고 동일 질문이면 api 미호출)\n",
    "start = time.time(); result2 = llm.invoke(query); end = time.time()\n",
    "print(f'두번째 호출시간: {end-start}')\n",
    "print(f'응답2 : {result2.content}')"
   ]
  },
  {
   "cell_type": "code",
   "execution_count": null,
   "id": "5237e71a",
   "metadata": {},
   "outputs": [],
   "source": []
  }
 ],
 "metadata": {
  "kernelspec": {
   "display_name": "llm_env",
   "language": "python",
   "name": "python3"
  },
  "language_info": {
   "codemirror_mode": {
    "name": "ipython",
    "version": 3
   },
   "file_extension": ".py",
   "mimetype": "text/x-python",
   "name": "python",
   "nbconvert_exporter": "python",
   "pygments_lexer": "ipython3",
   "version": "3.10.17"
  }
 },
 "nbformat": 4,
 "nbformat_minor": 5
}
